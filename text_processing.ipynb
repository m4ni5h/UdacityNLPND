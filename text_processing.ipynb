{
 "cells": [
  {
   "cell_type": "markdown",
   "metadata": {},
   "source": [
    "# Text Processing\n",
    "\n",
    "## Capturing Text Data\n",
    "\n",
    "### Plain Text"
   ]
  },
  {
   "cell_type": "code",
   "execution_count": 1,
   "metadata": {},
   "outputs": [
    {
     "name": "stdout",
     "output_type": "stream",
     "text": [
      "Hieroglyphic writing dates from c. 3000 BC, and is composed of hundreds of symbols. A hieroglyph can represent a word, a sound, or a silent determinative; and the same symbol can serve different purposes in different contexts. Hieroglyphs were a formal script, used on stone monuments and in tombs, that could be as detailed as individual works of art.\n",
      "\n"
     ]
    }
   ],
   "source": [
    "import os\n",
    "\n",
    "# Read in a plain text file\n",
    "with open(os.path.join(\"data\", \"hieroglyph.txt\"), \"r\") as f:\n",
    "    text = f.read()\n",
    "    print(text)"
   ]
  },
  {
   "cell_type": "markdown",
   "metadata": {},
   "source": [
    "### Tabular Data"
   ]
  },
  {
   "cell_type": "code",
   "execution_count": 2,
   "metadata": {
    "scrolled": true
   },
   "outputs": [
    {
     "data": {
      "text/html": [
       "<div>\n",
       "<style scoped>\n",
       "    .dataframe tbody tr th:only-of-type {\n",
       "        vertical-align: middle;\n",
       "    }\n",
       "\n",
       "    .dataframe tbody tr th {\n",
       "        vertical-align: top;\n",
       "    }\n",
       "\n",
       "    .dataframe thead th {\n",
       "        text-align: right;\n",
       "    }\n",
       "</style>\n",
       "<table border=\"1\" class=\"dataframe\">\n",
       "  <thead>\n",
       "    <tr style=\"text-align: right;\">\n",
       "      <th></th>\n",
       "      <th>publisher</th>\n",
       "      <th>title</th>\n",
       "    </tr>\n",
       "  </thead>\n",
       "  <tbody>\n",
       "    <tr>\n",
       "      <th>0</th>\n",
       "      <td>Livemint</td>\n",
       "      <td>fed's charles plosser sees high bar for change...</td>\n",
       "    </tr>\n",
       "    <tr>\n",
       "      <th>1</th>\n",
       "      <td>IFA Magazine</td>\n",
       "      <td>us open: stocks fall after fed official hints ...</td>\n",
       "    </tr>\n",
       "    <tr>\n",
       "      <th>2</th>\n",
       "      <td>IFA Magazine</td>\n",
       "      <td>fed risks falling 'behind the curve', charles ...</td>\n",
       "    </tr>\n",
       "    <tr>\n",
       "      <th>3</th>\n",
       "      <td>Moneynews</td>\n",
       "      <td>fed's plosser: nasty weather has curbed job gr...</td>\n",
       "    </tr>\n",
       "    <tr>\n",
       "      <th>4</th>\n",
       "      <td>NASDAQ</td>\n",
       "      <td>plosser: fed may have to accelerate tapering pace</td>\n",
       "    </tr>\n",
       "  </tbody>\n",
       "</table>\n",
       "</div>"
      ],
      "text/plain": [
       "      publisher                                              title\n",
       "0      Livemint  fed's charles plosser sees high bar for change...\n",
       "1  IFA Magazine  us open: stocks fall after fed official hints ...\n",
       "2  IFA Magazine  fed risks falling 'behind the curve', charles ...\n",
       "3     Moneynews  fed's plosser: nasty weather has curbed job gr...\n",
       "4        NASDAQ  plosser: fed may have to accelerate tapering pace"
      ]
     },
     "execution_count": 2,
     "metadata": {},
     "output_type": "execute_result"
    }
   ],
   "source": [
    "import pandas as pd\n",
    "\n",
    "# Extract text column from a dataframe\n",
    "df = pd.read_csv(os.path.join(\"data\", \"news.csv\"))\n",
    "df.head()[['publisher', 'title']]\n",
    "\n",
    "# Convert text column to lowercase\n",
    "df['title'] = df['title'].str.lower()\n",
    "df.head()[['publisher', 'title']]"
   ]
  },
  {
   "cell_type": "markdown",
   "metadata": {},
   "source": [
    "### Online Resource"
   ]
  },
  {
   "cell_type": "code",
   "execution_count": 3,
   "metadata": {
    "scrolled": true
   },
   "outputs": [
    {
     "name": "stdout",
     "output_type": "stream",
     "text": [
      "{\n",
      "    \"success\": {\n",
      "        \"total\": 1\n",
      "    },\n",
      "    \"contents\": {\n",
      "        \"quotes\": [\n",
      "            {\n",
      "                \"quote\": \"Winning isn't everything...it's the only thing.\",\n",
      "                \"length\": \"47\",\n",
      "                \"author\": \"Vincent van Gogh\",\n",
      "                \"tags\": {\n",
      "                    \"0\": \"inspire\",\n",
      "                    \"2\": \"winning\"\n",
      "                },\n",
      "                \"category\": \"inspire\",\n",
      "                \"language\": \"en\",\n",
      "                \"date\": \"2020-02-17\",\n",
      "                \"permalink\": \"https://theysaidso.com/quote/vincent-van-gogh-winning-isnt-everythingits-the-only-thing\",\n",
      "                \"id\": \"B7OFzrXc4MXRTfb4Ga0fxQeF\",\n",
      "                \"background\": \"https://theysaidso.com/img/qod/qod-inspire.jpg\",\n",
      "                \"title\": \"Inspiring Quote of the day\"\n",
      "            }\n",
      "        ]\n",
      "    },\n",
      "    \"baseurl\": \"https://theysaidso.com\",\n",
      "    \"copyright\": {\n",
      "        \"year\": 2022,\n",
      "        \"url\": \"https://theysaidso.com\"\n",
      "    }\n",
      "}\n",
      "Winning isn't everything...it's the only thing. \n",
      "-- Vincent van Gogh\n"
     ]
    }
   ],
   "source": [
    "import requests\n",
    "import json\n",
    "\n",
    "# Fetch data from a REST API\n",
    "r = requests.get(\n",
    "    \"https://quotes.rest/qod.json\")\n",
    "res = r.json()\n",
    "print(json.dumps(res, indent=4))\n",
    "\n",
    "# Extract relevant object and field\n",
    "q = res[\"contents\"][\"quotes\"][0]\n",
    "print(q[\"quote\"], \"\\n--\", q[\"author\"])"
   ]
  },
  {
   "cell_type": "markdown",
   "metadata": {},
   "source": [
    "## Cleaning"
   ]
  },
  {
   "cell_type": "code",
   "execution_count": 4,
   "metadata": {
    "scrolled": true
   },
   "outputs": [
    {
     "name": "stdout",
     "output_type": "stream",
     "text": [
      "<html op=\"news\"><head><meta name=\"referrer\" content=\"origin\"><meta name=\"viewport\" content=\"width=device-width, initial-scale=1.0\"><link rel=\"stylesheet\" type=\"text/css\" href=\"news.css?GvtQ9Pb5xKMYZzmICAOq\">\n",
      "        <link rel=\"shortcut icon\" href=\"favicon.ico\">\n",
      "          <link rel=\"alternate\" type=\"application/rss+xml\" title=\"RSS\" href=\"rss\">\n",
      "        <title>Hacker News</title></head><body><center><table id=\"hnmain\" border=\"0\" cellpadding=\"0\" cellspacing=\"0\" width=\"85%\" bgcolor=\"#f6f6ef\">\n",
      "        <tr><td bgcolor=\"#ff6600\"><table border=\"0\" cellpadding=\"0\" cellspacing=\"0\" width=\"100%\" style=\"padding:2px\"><tr><td style=\"width:18px;padding-right:4px\"><a href=\"https://news.ycombinator.com\"><img src=\"y18.gif\" width=\"18\" height=\"18\" style=\"border:1px white solid;\"></a></td>\n",
      "                  <td style=\"line-height:12pt; height:10px;\"><span class=\"pagetop\"><b class=\"hnname\"><a href=\"news\">Hacker News</a></b>\n",
      "              <a href=\"newest\">new</a> | <a href=\"front\">past</a> | <a href=\"newcomments\">comments</a> | <a href=\"ask\">ask</a> | <a href=\"show\">show</a> | <a href=\"jobs\">jobs</a> | <a href=\"submit\">submit</a>            </span></td><td style=\"text-align:right;padding-right:4px;\"><span class=\"pagetop\">\n",
      "                              <a href=\"login?goto=news\">login</a>\n",
      "                          </span></td>\n",
      "              </tr></table></td></tr>\n",
      "<tr id=\"pagespace\" title=\"\" style=\"height:10px\"></tr><tr><td><table border=\"0\" cellpadding=\"0\" cellspacing=\"0\" class=\"itemlist\">\n",
      "              <tr class='athing' id='22348568'>\n",
      "      <td align=\"right\" valign=\"top\" class=\"title\"><span class=\"rank\">1.</span></td>      <td valign=\"top\" class=\"votelinks\"><center><a id='up_22348568' href='vote?id=22348568&amp;how=up&amp;goto=news'><div class='votearrow' title='upvote'></div></a></center></td><td class=\"title\"><a href=\"https://krebsonsecurity.com/2020/02/pay-up-or-well-make-google-ban-your-ads/\" class=\"storylink\">Pay Up, or We’ll Make Google Ban Your Ads</a><span class=\"sitebit comhead\"> (<a href=\"from?site=krebsonsecurity.com\"><span class=\"sitestr\">krebsonsecurity.com</span></a>)</span></td></tr><tr><td colspan=\"2\"></td><td class=\"subtext\">\n",
      "        <span class=\"score\" id=\"score_22348568\">127 points</span> by <a href=\"user?id=akeck\" class=\"hnuser\">akeck</a> <span class=\"age\"><a href=\"item?id=22348568\">59 minutes ago</a></span> <span id=\"unv_22348568\"></span> | <a href=\"hide?id=22348568&amp;goto=news\">hide</a> | <a href=\"item?id=22348568\">23&nbsp;comments</a>              </td></tr>\n",
      "      <tr class=\"spacer\" style=\"height:5px\"></tr>\n",
      "                <tr class='athing' id='22348386'>\n",
      "      <td align=\"right\" valign=\"top\" class=\"title\"><span class=\"rank\">2.</span></td>      <td valign=\"top\" class=\"votelinks\"><center><a id='up_22348386' href='vote?id=22348386&amp;how=up&amp;goto=news'><div class='votearrow' title='upvote'></div></a></center></td><td class=\"title\"><a href=\"https://github.com/dwmkerr/hacker-laws#kernighans-law\" class=\"storylink\">Hacker Laws: Kernighan's Law – You are not smart enough to debug it</a><span class=\"sitebit comhead\"> (<a href=\"from?site=github.com\"><span class=\"sitestr\">github.com</span></a>)</span></td></tr><tr><td colspan=\"2\"></td><td class=\"subtext\">\n",
      "        <span class=\"score\" id=\"score_22348386\">86 points</span> by <a href=\"user?id=dwmkerr\" class=\"hnuser\">dwmkerr</a> <span class=\"age\"><a href=\"item?id=22348386\">1 hour ago</a></span> <span id=\"unv_22348386\"></span> | <a href=\"hide?id=22348386&amp;goto=news\">hide</a> | <a href=\"item?id=22348386\">31&nbsp;comments</a>              </td></tr>\n",
      "      <tr class=\"spacer\" style=\"height:5px\"></tr>\n",
      "                <tr class='athing' id='22348190'>\n",
      "      <td align=\"right\" valign=\"top\" class=\"title\"><span class=\"rank\">3.</span></td>      <td valign=\"top\" class=\"votelinks\"><center><a id='up_22348190' href='vote?id=22348190&amp;how=up&amp;goto=news'><div class='votearrow' title='upvote'></div></a></center></td><td class=\"title\"><a href=\"https://casual-effects.com/markdeep/\" class=\"storylink\">Markdeep – plain text documents with diagrams, equations, and Markdown syntax</a><span class=\"sitebit comhead\"> (<a href=\"from?site=casual-effects.com\"><span class=\"sitestr\">casual-effects.com</span></a>)</span></td></tr><tr><td colspan=\"2\"></td><td class=\"subtext\">\n",
      "        <span class=\"score\" id=\"score_22348190\">79 points</span> by <a href=\"user?id=thunderbong\" class=\"hnuser\">thunderbong</a> <span class=\"age\"><a href=\"item?id=22348190\">1 hour ago</a></span> <span id=\"unv_22348190\"></span> | <a href=\"hide?id=22348190&amp;goto=news\">hide</a> | <a href=\"item?id=22348190\">29&nbsp;comments</a>              </td></tr>\n",
      "      <tr class=\"spacer\" style=\"height:5px\"></tr>\n",
      "                <tr class='athing' id='22348539'>\n",
      "      <td align=\"right\" valign=\"top\" class=\"title\"><span class=\"rank\">4.</span></td>      <td valign=\"top\" class=\"votelinks\"><center><a id='up_22348539' href='vote?id=22348539&amp;how=up&amp;goto=news'><div class='votearrow' title='upvote'></div></a></center></td><td class=\"title\"><a href=\"https://www.psychologicalscience.org/publications/psychological-assessment-in-legal-contexts-are-courts-keeping-junk-science-out-of-the-courtroom.html\" class=\"storylink\">Are Courts Keeping “Junk Science” Out of the Courtroom?</a><span class=\"sitebit comhead\"> (<a href=\"from?site=psychologicalscience.org\"><span class=\"sitestr\">psychologicalscience.org</span></a>)</span></td></tr><tr><td colspan=\"2\"></td><td class=\"subtext\">\n",
      "        <span class=\"score\" id=\"score_22348539\">19 points</span> by <a href=\"user?id=EndXA\" class=\"hnuser\">EndXA</a> <span class=\"age\"><a href=\"item?id=22348539\">1 hour ago</a></span> <span id=\"unv_22348539\"></span> | <a href=\"hide?id=22348539&amp;goto=news\">hide</a> | <a href=\"item?id=22348539\">5&nbsp;comments</a>              </td></tr>\n",
      "      <tr class=\"spacer\" style=\"height:5px\"></tr>\n",
      "                <tr class='athing' id='22346349'>\n",
      "      <td align=\"right\" valign=\"top\" class=\"title\"><span class=\"rank\">5.</span></td>      <td valign=\"top\" class=\"votelinks\"><center><a id='up_22346349' href='vote?id=22346349&amp;how=up&amp;goto=news'><div class='votearrow' title='upvote'></div></a></center></td><td class=\"title\"><a href=\"http://reasonablypolymorphic.com/book/preface\" class=\"storylink\">How These Things Work – A book about CS from first principles (2016)</a><span class=\"sitebit comhead\"> (<a href=\"from?site=reasonablypolymorphic.com\"><span class=\"sitestr\">reasonablypolymorphic.com</span></a>)</span></td></tr><tr><td colspan=\"2\"></td><td class=\"subtext\">\n",
      "        <span class=\"score\" id=\"score_22346349\">412 points</span> by <a href=\"user?id=falava\" class=\"hnuser\">falava</a> <span class=\"age\"><a href=\"item?id=22346349\">8 hours ago</a></span> <span id=\"unv_22346349\"></span> | <a href=\"hide?id=22346349&amp;goto=news\">hide</a> | <a href=\"item?id=22346349\">38&nbsp;comments</a>              </td></tr>\n",
      "      <tr class=\"spacer\" style=\"height:5px\"></tr>\n",
      "                <tr class='athing' id='22346532'>\n",
      "      <td align=\"right\" valign=\"top\" class=\"title\"><span class=\"rank\">6.</span></td>      <td valign=\"top\" class=\"votelinks\"><center><a id='up_22346532' href='vote?id=22346532&amp;how=up&amp;goto=news'><div class='votearrow' title='upvote'></div></a></center></td><td class=\"title\"><a href=\"https://compilers.iecc.com/crenshaw/\" class=\"storylink\">Let’s Build a Compiler (1995)</a><span class=\"sitebit comhead\"> (<a href=\"from?site=iecc.com\"><span class=\"sitestr\">iecc.com</span></a>)</span></td></tr><tr><td colspan=\"2\"></td><td class=\"subtext\">\n",
      "        <span class=\"score\" id=\"score_22346532\">154 points</span> by <a href=\"user?id=undreren\" class=\"hnuser\">undreren</a> <span class=\"age\"><a href=\"item?id=22346532\">7 hours ago</a></span> <span id=\"unv_22346532\"></span> | <a href=\"hide?id=22346532&amp;goto=news\">hide</a> | <a href=\"item?id=22346532\">28&nbsp;comments</a>              </td></tr>\n",
      "      <tr class=\"spacer\" style=\"height:5px\"></tr>\n",
      "                <tr class='athing' id='22346475'>\n",
      "      <td align=\"right\" valign=\"top\" class=\"title\"><span class=\"rank\">7.</span></td>      <td valign=\"top\" class=\"votelinks\"><center><a id='up_22346475' href='vote?id=22346475&amp;how=up&amp;goto=news'><div class='votearrow' title='upvote'></div></a></center></td><td class=\"title\"><a href=\"https://github.com/rohanrhu/gdb-frontend\" class=\"storylink\">GDB Frontend with C Pointer Visualization</a><span class=\"sitebit comhead\"> (<a href=\"from?site=github.com\"><span class=\"sitestr\">github.com</span></a>)</span></td></tr><tr><td colspan=\"2\"></td><td class=\"subtext\">\n",
      "        <span class=\"score\" id=\"score_22346475\">137 points</span> by <a href=\"user?id=mariuz\" class=\"hnuser\">mariuz</a> <span class=\"age\"><a href=\"item?id=22346475\">7 hours ago</a></span> <span id=\"unv_22346475\"></span> | <a href=\"hide?id=22346475&amp;goto=news\">hide</a> | <a href=\"item?id=22346475\">39&nbsp;comments</a>              </td></tr>\n",
      "      <tr class=\"spacer\" style=\"height:5px\"></tr>\n",
      "                <tr class='athing' id='22347393'>\n",
      "      <td align=\"right\" valign=\"top\" class=\"title\"><span class=\"rank\">8.</span></td>      <td valign=\"top\" class=\"votelinks\"><center><a id='up_22347393' href='vote?id=22347393&amp;how=up&amp;goto=news'><div class='votearrow' title='upvote'></div></a></center></td><td class=\"title\"><a href=\"https://pudding.cool/2019/11/big-hair/\" class=\"storylink\">The Big Data of Big Hair (2019)</a><span class=\"sitebit comhead\"> (<a href=\"from?site=pudding.cool\"><span class=\"sitestr\">pudding.cool</span></a>)</span></td></tr><tr><td colspan=\"2\"></td><td class=\"subtext\">\n",
      "        <span class=\"score\" id=\"score_22347393\">58 points</span> by <a href=\"user?id=EndXA\" class=\"hnuser\">EndXA</a> <span class=\"age\"><a href=\"item?id=22347393\">3 hours ago</a></span> <span id=\"unv_22347393\"></span> | <a href=\"hide?id=22347393&amp;goto=news\">hide</a> | <a href=\"item?id=22347393\">5&nbsp;comments</a>              </td></tr>\n",
      "      <tr class=\"spacer\" style=\"height:5px\"></tr>\n",
      "                <tr class='athing' id='22346857'>\n",
      "      <td align=\"right\" valign=\"top\" class=\"title\"><span class=\"rank\">9.</span></td>      <td valign=\"top\" class=\"votelinks\"><center><a id='up_22346857' href='vote?id=22346857&amp;how=up&amp;goto=news'><div class='votearrow' title='upvote'></div></a></center></td><td class=\"title\"><a href=\"https://phys.org/news/2020-02-eso-telescope-surface-dim-betelgeuse.html\" class=\"storylink\">ESO telescope sees surface of dim Betelgeuse</a><span class=\"sitebit comhead\"> (<a href=\"from?site=phys.org\"><span class=\"sitestr\">phys.org</span></a>)</span></td></tr><tr><td colspan=\"2\"></td><td class=\"subtext\">\n",
      "        <span class=\"score\" id=\"score_22346857\">57 points</span> by <a href=\"user?id=dnetesn\" class=\"hnuser\">dnetesn</a> <span class=\"age\"><a href=\"item?id=22346857\">5 hours ago</a></span> <span id=\"unv_22346857\"></span> | <a href=\"hide?id=22346857&amp;goto=news\">hide</a> | <a href=\"item?id=22346857\">32&nbsp;comments</a>              </td></tr>\n",
      "      <tr class=\"spacer\" style=\"height:5px\"></tr>\n",
      "                <tr class='athing' id='22345255'>\n",
      "      <td align=\"right\" valign=\"top\" class=\"title\"><span class=\"rank\">10.</span></td>      <td valign=\"top\" class=\"votelinks\"><center><a id='up_22345255' href='vote?id=22345255&amp;how=up&amp;goto=news'><div class='votearrow' title='upvote'></div></a></center></td><td class=\"title\"><a href=\"https://github.com/google/trax\" class=\"storylink\">Google/Trax – Understand and explore advanced deep learning</a><span class=\"sitebit comhead\"> (<a href=\"from?site=github.com\"><span class=\"sitestr\">github.com</span></a>)</span></td></tr><tr><td colspan=\"2\"></td><td class=\"subtext\">\n",
      "        <span class=\"score\" id=\"score_22345255\">306 points</span> by <a href=\"user?id=Bella-Xiang\" class=\"hnuser\">Bella-Xiang</a> <span class=\"age\"><a href=\"item?id=22345255\">14 hours ago</a></span> <span id=\"unv_22345255\"></span> | <a href=\"hide?id=22345255&amp;goto=news\">hide</a> | <a href=\"item?id=22345255\">41&nbsp;comments</a>              </td></tr>\n",
      "      <tr class=\"spacer\" style=\"height:5px\"></tr>\n",
      "                <tr class='athing' id='22346330'>\n",
      "      <td align=\"right\" valign=\"top\" class=\"title\"><span class=\"rank\">11.</span></td>      <td valign=\"top\" class=\"votelinks\"><center><a id='up_22346330' href='vote?id=22346330&amp;how=up&amp;goto=news'><div class='votearrow' title='upvote'></div></a></center></td><td class=\"title\"><a href=\"https://www.blameless.com/structuring-team-software-reliability/\" class=\"storylink\">Team Structure for Software Reliability Within Organizations</a><span class=\"sitebit comhead\"> (<a href=\"from?site=blameless.com\"><span class=\"sitestr\">blameless.com</span></a>)</span></td></tr><tr><td colspan=\"2\"></td><td class=\"subtext\">\n",
      "        <span class=\"score\" id=\"score_22346330\">82 points</span> by <a href=\"user?id=kiyanwang\" class=\"hnuser\">kiyanwang</a> <span class=\"age\"><a href=\"item?id=22346330\">8 hours ago</a></span> <span id=\"unv_22346330\"></span> | <a href=\"hide?id=22346330&amp;goto=news\">hide</a> | <a href=\"item?id=22346330\">22&nbsp;comments</a>              </td></tr>\n",
      "      <tr class=\"spacer\" style=\"height:5px\"></tr>\n",
      "                <tr class='athing' id='22347911'>\n",
      "      <td align=\"right\" valign=\"top\" class=\"title\"><span class=\"rank\">12.</span></td>      <td valign=\"top\" class=\"votelinks\"><center><a id='up_22347911' href='vote?id=22347911&amp;how=up&amp;goto=news'><div class='votearrow' title='upvote'></div></a></center></td><td class=\"title\"><a href=\"https://www.youtube.com/watch?v=2EmYw-O-WLI\" class=\"storylink\">Vue.js: The Documentary (Trailer)</a><span class=\"sitebit comhead\"> (<a href=\"from?site=youtube.com\"><span class=\"sitestr\">youtube.com</span></a>)</span></td></tr><tr><td colspan=\"2\"></td><td class=\"subtext\">\n",
      "        <span class=\"score\" id=\"score_22347911\">93 points</span> by <a href=\"user?id=nailer\" class=\"hnuser\">nailer</a> <span class=\"age\"><a href=\"item?id=22347911\">2 hours ago</a></span> <span id=\"unv_22347911\"></span> | <a href=\"hide?id=22347911&amp;goto=news\">hide</a> | <a href=\"item?id=22347911\">32&nbsp;comments</a>              </td></tr>\n",
      "      <tr class=\"spacer\" style=\"height:5px\"></tr>\n",
      "                <tr class='athing' id='22348251'>\n",
      "      <td align=\"right\" valign=\"top\" class=\"title\"><span class=\"rank\">13.</span></td>      <td valign=\"top\" class=\"votelinks\"><center><a id='up_22348251' href='vote?id=22348251&amp;how=up&amp;goto=news'><div class='votearrow' title='upvote'></div></a></center></td><td class=\"title\"><a href=\"https://www.reddit.com/r/spacex/comments/f4d8sg/rspacex_starlink4_official_launch_discussion/\" class=\"storylink\">SpaceX first stage landing failed for Starlink-4 launch</a><span class=\"sitebit comhead\"> (<a href=\"from?site=reddit.com\"><span class=\"sitestr\">reddit.com</span></a>)</span></td></tr><tr><td colspan=\"2\"></td><td class=\"subtext\">\n",
      "        <span class=\"score\" id=\"score_22348251\">34 points</span> by <a href=\"user?id=gokhan\" class=\"hnuser\">gokhan</a> <span class=\"age\"><a href=\"item?id=22348251\">1 hour ago</a></span> <span id=\"unv_22348251\"></span> | <a href=\"hide?id=22348251&amp;goto=news\">hide</a> | <a href=\"item?id=22348251\">5&nbsp;comments</a>              </td></tr>\n",
      "      <tr class=\"spacer\" style=\"height:5px\"></tr>\n",
      "                <tr class='athing' id='22346049'>\n",
      "      <td align=\"right\" valign=\"top\" class=\"title\"><span class=\"rank\">14.</span></td>      <td valign=\"top\" class=\"votelinks\"><center><a id='up_22346049' href='vote?id=22346049&amp;how=up&amp;goto=news'><div class='votearrow' title='upvote'></div></a></center></td><td class=\"title\"><a href=\"https://www.bbc.co.uk/news/science-environment-51504002\" class=\"storylink\" rel=\"nofollow\">Met Office forecasters set for 'billion pound' supercomputer</a><span class=\"sitebit comhead\"> (<a href=\"from?site=bbc.co.uk\"><span class=\"sitestr\">bbc.co.uk</span></a>)</span></td></tr><tr><td colspan=\"2\"></td><td class=\"subtext\">\n",
      "        <span class=\"score\" id=\"score_22346049\">7 points</span> by <a href=\"user?id=aluket\" class=\"hnuser\">aluket</a> <span class=\"age\"><a href=\"item?id=22346049\">2 hours ago</a></span> <span id=\"unv_22346049\"></span> | <a href=\"hide?id=22346049&amp;goto=news\">hide</a> | <a href=\"item?id=22346049\">2&nbsp;comments</a>              </td></tr>\n",
      "      <tr class=\"spacer\" style=\"height:5px\"></tr>\n",
      "                <tr class='athing' id='22347700'>\n",
      "      <td align=\"right\" valign=\"top\" class=\"title\"><span class=\"rank\">15.</span></td>      <td valign=\"top\" class=\"votelinks\"><center><a id='up_22347700' href='vote?id=22347700&amp;how=up&amp;goto=news'><div class='votearrow' title='upvote'></div></a></center></td><td class=\"title\"><a href=\"https://www.brightbox.com/blog/2020/02/17/using-openapi-to-validate-kubernetes-configs/\" class=\"storylink\">Rubynetes: Using OpenAPI to validate Kubernetes configs</a><span class=\"sitebit comhead\"> (<a href=\"from?site=brightbox.com\"><span class=\"sitestr\">brightbox.com</span></a>)</span></td></tr><tr><td colspan=\"2\"></td><td class=\"subtext\">\n",
      "        <span class=\"score\" id=\"score_22347700\">13 points</span> by <a href=\"user?id=neilwilson\" class=\"hnuser\">neilwilson</a> <span class=\"age\"><a href=\"item?id=22347700\">3 hours ago</a></span> <span id=\"unv_22347700\"></span> | <a href=\"hide?id=22347700&amp;goto=news\">hide</a> | <a href=\"item?id=22347700\">discuss</a>              </td></tr>\n",
      "      <tr class=\"spacer\" style=\"height:5px\"></tr>\n",
      "                <tr class='athing' id='22347516'>\n",
      "      <td align=\"right\" valign=\"top\" class=\"title\"><span class=\"rank\">16.</span></td>      <td valign=\"top\" class=\"votelinks\"><center><a id='up_22347516' href='vote?id=22347516&amp;how=up&amp;goto=news'><div class='votearrow' title='upvote'></div></a></center></td><td class=\"title\"><a href=\"https://github.com/mariusandra/insights\" class=\"storylink\">Insights – Open-Source Self-Hosted Business Intelligence Platform</a><span class=\"sitebit comhead\"> (<a href=\"from?site=github.com\"><span class=\"sitestr\">github.com</span></a>)</span></td></tr><tr><td colspan=\"2\"></td><td class=\"subtext\">\n",
      "        <span class=\"score\" id=\"score_22347516\">18 points</span> by <a href=\"user?id=mariusandra\" class=\"hnuser\">mariusandra</a> <span class=\"age\"><a href=\"item?id=22347516\">3 hours ago</a></span> <span id=\"unv_22347516\"></span> | <a href=\"hide?id=22347516&amp;goto=news\">hide</a> | <a href=\"item?id=22347516\">2&nbsp;comments</a>              </td></tr>\n",
      "      <tr class=\"spacer\" style=\"height:5px\"></tr>\n",
      "                <tr class='athing' id='22340860'>\n",
      "      <td align=\"right\" valign=\"top\" class=\"title\"><span class=\"rank\">17.</span></td>      <td valign=\"top\" class=\"votelinks\"><center><a id='up_22340860' href='vote?id=22340860&amp;how=up&amp;goto=news'><div class='votearrow' title='upvote'></div></a></center></td><td class=\"title\"><a href=\"https://lwn.net/SubscriberLink/812325/b642e849751b9068/\" class=\"storylink\">Keeping secrets in memfd areas</a><span class=\"sitebit comhead\"> (<a href=\"from?site=lwn.net\"><span class=\"sitestr\">lwn.net</span></a>)</span></td></tr><tr><td colspan=\"2\"></td><td class=\"subtext\">\n",
      "        <span class=\"score\" id=\"score_22340860\">55 points</span> by <a href=\"user?id=Tomte\" class=\"hnuser\">Tomte</a> <span class=\"age\"><a href=\"item?id=22340860\">8 hours ago</a></span> <span id=\"unv_22340860\"></span> | <a href=\"hide?id=22340860&amp;goto=news\">hide</a> | <a href=\"item?id=22340860\">2&nbsp;comments</a>              </td></tr>\n",
      "      <tr class=\"spacer\" style=\"height:5px\"></tr>\n",
      "                <tr class='athing' id='22346556'>\n",
      "      <td align=\"right\" valign=\"top\" class=\"title\"><span class=\"rank\">18.</span></td>      <td valign=\"top\" class=\"votelinks\"><center><a id='up_22346556' href='vote?id=22346556&amp;how=up&amp;goto=news'><div class='votearrow' title='upvote'></div></a></center></td><td class=\"title\"><a href=\"https://en.wikipedia.org/wiki/Max_(software)\" class=\"storylink\">Max: A visual programming language for music and multimedia</a><span class=\"sitebit comhead\"> (<a href=\"from?site=wikipedia.org\"><span class=\"sitestr\">wikipedia.org</span></a>)</span></td></tr><tr><td colspan=\"2\"></td><td class=\"subtext\">\n",
      "        <span class=\"score\" id=\"score_22346556\">24 points</span> by <a href=\"user?id=zaiste\" class=\"hnuser\">zaiste</a> <span class=\"age\"><a href=\"item?id=22346556\">5 hours ago</a></span> <span id=\"unv_22346556\"></span> | <a href=\"hide?id=22346556&amp;goto=news\">hide</a> | <a href=\"item?id=22346556\">12&nbsp;comments</a>              </td></tr>\n",
      "      <tr class=\"spacer\" style=\"height:5px\"></tr>\n",
      "                <tr class='athing' id='22343796'>\n",
      "      <td align=\"right\" valign=\"top\" class=\"title\"><span class=\"rank\">19.</span></td>      <td valign=\"top\" class=\"votelinks\"><center><a id='up_22343796' href='vote?id=22343796&amp;how=up&amp;goto=news'><div class='votearrow' title='upvote'></div></a></center></td><td class=\"title\"><a href=\"https://billwadge.wordpress.com/2020/02/10/im-good-enough-im-smart-enough-and-dog-gone-it-people-like-me-writing-grant-applications\" class=\"storylink\">Writing Grant Applications</a><span class=\"sitebit comhead\"> (<a href=\"from?site=billwadge.wordpress.com\"><span class=\"sitestr\">billwadge.wordpress.com</span></a>)</span></td></tr><tr><td colspan=\"2\"></td><td class=\"subtext\">\n",
      "        <span class=\"score\" id=\"score_22343796\">145 points</span> by <a href=\"user?id=herodotus\" class=\"hnuser\">herodotus</a> <span class=\"age\"><a href=\"item?id=22343796\">14 hours ago</a></span> <span id=\"unv_22343796\"></span> | <a href=\"hide?id=22343796&amp;goto=news\">hide</a> | <a href=\"item?id=22343796\">37&nbsp;comments</a>              </td></tr>\n",
      "      <tr class=\"spacer\" style=\"height:5px\"></tr>\n",
      "                <tr class='athing' id='22341053'>\n",
      "      <td align=\"right\" valign=\"top\" class=\"title\"><span class=\"rank\">20.</span></td>      <td valign=\"top\" class=\"votelinks\"><center><a id='up_22341053' href='vote?id=22341053&amp;how=up&amp;goto=news'><div class='votearrow' title='upvote'></div></a></center></td><td class=\"title\"><a href=\"http://isometricland.net/keyboard/keyboard.php\" class=\"storylink\">Video Game Keyboard Diagrams</a><span class=\"sitebit comhead\"> (<a href=\"from?site=isometricland.net\"><span class=\"sitestr\">isometricland.net</span></a>)</span></td></tr><tr><td colspan=\"2\"></td><td class=\"subtext\">\n",
      "        <span class=\"score\" id=\"score_22341053\">67 points</span> by <a href=\"user?id=app4soft\" class=\"hnuser\">app4soft</a> <span class=\"age\"><a href=\"item?id=22341053\">9 hours ago</a></span> <span id=\"unv_22341053\"></span> | <a href=\"hide?id=22341053&amp;goto=news\">hide</a> | <a href=\"item?id=22341053\">18&nbsp;comments</a>              </td></tr>\n",
      "      <tr class=\"spacer\" style=\"height:5px\"></tr>\n",
      "                <tr class='athing' id='22345655'>\n",
      "      <td align=\"right\" valign=\"top\" class=\"title\"><span class=\"rank\">21.</span></td>      <td valign=\"top\" class=\"votelinks\"><center><a id='up_22345655' href='vote?id=22345655&amp;how=up&amp;goto=news'><div class='votearrow' title='upvote'></div></a></center></td><td class=\"title\"><a href=\"https://blog.timothymullican.com/calculating-pi-my-attempt-breaking-pi-record\" class=\"storylink\">Calculating Pi: My Attempt at Breaking the Pi World Record</a><span class=\"sitebit comhead\"> (<a href=\"from?site=timothymullican.com\"><span class=\"sitestr\">timothymullican.com</span></a>)</span></td></tr><tr><td colspan=\"2\"></td><td class=\"subtext\">\n",
      "        <span class=\"score\" id=\"score_22345655\">120 points</span> by <a href=\"user?id=olvy0\" class=\"hnuser\">olvy0</a> <span class=\"age\"><a href=\"item?id=22345655\">12 hours ago</a></span> <span id=\"unv_22345655\"></span> | <a href=\"hide?id=22345655&amp;goto=news\">hide</a> | <a href=\"item?id=22345655\">60&nbsp;comments</a>              </td></tr>\n",
      "      <tr class=\"spacer\" style=\"height:5px\"></tr>\n",
      "                <tr class='athing' id='22344771'>\n",
      "      <td align=\"right\" valign=\"top\" class=\"title\"><span class=\"rank\">22.</span></td>      <td valign=\"top\" class=\"votelinks\"><center><a id='up_22344771' href='vote?id=22344771&amp;how=up&amp;goto=news'><div class='votearrow' title='upvote'></div></a></center></td><td class=\"title\"><a href=\"https://www.junglecoder.com/blog/idea-chain-themes\" class=\"storylink\">What eight years of side projects have taught me (2019)</a><span class=\"sitebit comhead\"> (<a href=\"from?site=junglecoder.com\"><span class=\"sitestr\">junglecoder.com</span></a>)</span></td></tr><tr><td colspan=\"2\"></td><td class=\"subtext\">\n",
      "        <span class=\"score\" id=\"score_22344771\">328 points</span> by <a href=\"user?id=yumaikas\" class=\"hnuser\">yumaikas</a> <span class=\"age\"><a href=\"item?id=22344771\">15 hours ago</a></span> <span id=\"unv_22344771\"></span> | <a href=\"hide?id=22344771&amp;goto=news\">hide</a> | <a href=\"item?id=22344771\">64&nbsp;comments</a>              </td></tr>\n",
      "      <tr class=\"spacer\" style=\"height:5px\"></tr>\n",
      "                <tr class='athing' id='22343712'>\n",
      "      <td align=\"right\" valign=\"top\" class=\"title\"><span class=\"rank\">23.</span></td>      <td valign=\"top\" class=\"votelinks\"><center><a id='up_22343712' href='vote?id=22343712&amp;how=up&amp;goto=news'><div class='votearrow' title='upvote'></div></a></center></td><td class=\"title\"><a href=\"https://github.com/netgusto/nodebook\" class=\"storylink\">Show HN: Nodebook – Multi-Lang Web REPL on Docker</a><span class=\"sitebit comhead\"> (<a href=\"from?site=github.com\"><span class=\"sitestr\">github.com</span></a>)</span></td></tr><tr><td colspan=\"2\"></td><td class=\"subtext\">\n",
      "        <span class=\"score\" id=\"score_22343712\">55 points</span> by <a href=\"user?id=netgusto\" class=\"hnuser\">netgusto</a> <span class=\"age\"><a href=\"item?id=22343712\">14 hours ago</a></span> <span id=\"unv_22343712\"></span> | <a href=\"hide?id=22343712&amp;goto=news\">hide</a> | <a href=\"item?id=22343712\">14&nbsp;comments</a>              </td></tr>\n",
      "      <tr class=\"spacer\" style=\"height:5px\"></tr>\n",
      "                <tr class='athing' id='22345150'>\n",
      "      <td align=\"right\" valign=\"top\" class=\"title\"><span class=\"rank\">24.</span></td>      <td valign=\"top\" class=\"votelinks\"><center><a id='up_22345150' href='vote?id=22345150&amp;how=up&amp;goto=news'><div class='votearrow' title='upvote'></div></a></center></td><td class=\"title\"><a href=\"item?id=22345150\" class=\"storylink\">Ask HN: What automation tools have you used to replace mundane activities?</a></td></tr><tr><td colspan=\"2\"></td><td class=\"subtext\">\n",
      "        <span class=\"score\" id=\"score_22345150\">304 points</span> by <a href=\"user?id=beatthatflight\" class=\"hnuser\">beatthatflight</a> <span class=\"age\"><a href=\"item?id=22345150\">14 hours ago</a></span> <span id=\"unv_22345150\"></span> | <a href=\"hide?id=22345150&amp;goto=news\">hide</a> | <a href=\"item?id=22345150\">168&nbsp;comments</a>              </td></tr>\n",
      "      <tr class=\"spacer\" style=\"height:5px\"></tr>\n",
      "                <tr class='athing' id='22341138'>\n",
      "      <td align=\"right\" valign=\"top\" class=\"title\"><span class=\"rank\">25.</span></td>      <td valign=\"top\" class=\"votelinks\"><center><a id='up_22341138' href='vote?id=22341138&amp;how=up&amp;goto=news'><div class='votearrow' title='upvote'></div></a></center></td><td class=\"title\"><a href=\"https://github.com/VGraupera/1on1-questions\" class=\"storylink\">1-on-1 meeting questions</a><span class=\"sitebit comhead\"> (<a href=\"from?site=github.com\"><span class=\"sitestr\">github.com</span></a>)</span></td></tr><tr><td colspan=\"2\"></td><td class=\"subtext\">\n",
      "        <span class=\"score\" id=\"score_22341138\">875 points</span> by <a href=\"user?id=yankit\" class=\"hnuser\">yankit</a> <span class=\"age\"><a href=\"item?id=22341138\">1 day ago</a></span> <span id=\"unv_22341138\"></span> | <a href=\"hide?id=22341138&amp;goto=news\">hide</a> | <a href=\"item?id=22341138\">261&nbsp;comments</a>              </td></tr>\n",
      "      <tr class=\"spacer\" style=\"height:5px\"></tr>\n",
      "                <tr class='athing' id='22340634'>\n",
      "      <td align=\"right\" valign=\"top\" class=\"title\"><span class=\"rank\">26.</span></td>      <td valign=\"top\" class=\"votelinks\"><center><a id='up_22340634' href='vote?id=22340634&amp;how=up&amp;goto=news'><div class='votearrow' title='upvote'></div></a></center></td><td class=\"title\"><a href=\"https://lindzey.github.io/blog/2015/07/27/a-brief-introduction-to-ice-penetrating-radar/\" class=\"storylink\">A Brief Introduction to Ice-Penetrating Radar (2015)</a><span class=\"sitebit comhead\"> (<a href=\"from?site=lindzey.github.io\"><span class=\"sitestr\">lindzey.github.io</span></a>)</span></td></tr><tr><td colspan=\"2\"></td><td class=\"subtext\">\n",
      "        <span class=\"score\" id=\"score_22340634\">42 points</span> by <a href=\"user?id=luu\" class=\"hnuser\">luu</a> <span class=\"age\"><a href=\"item?id=22340634\">13 hours ago</a></span> <span id=\"unv_22340634\"></span> | <a href=\"hide?id=22340634&amp;goto=news\">hide</a> | <a href=\"item?id=22340634\">1&nbsp;comment</a>              </td></tr>\n",
      "      <tr class=\"spacer\" style=\"height:5px\"></tr>\n",
      "                <tr class='athing' id='22341983'>\n",
      "      <td align=\"right\" valign=\"top\" class=\"title\"><span class=\"rank\">27.</span></td>      <td valign=\"top\" class=\"votelinks\"><center><a id='up_22341983' href='vote?id=22341983&amp;how=up&amp;goto=news'><div class='votearrow' title='upvote'></div></a></center></td><td class=\"title\"><a href=\"http://www.runwes.com/2020/02/11/howilearnedfrench.html\" class=\"storylink\">I Learned French in 12 Months</a><span class=\"sitebit comhead\"> (<a href=\"from?site=runwes.com\"><span class=\"sitestr\">runwes.com</span></a>)</span></td></tr><tr><td colspan=\"2\"></td><td class=\"subtext\">\n",
      "        <span class=\"score\" id=\"score_22341983\">635 points</span> by <a href=\"user?id=ingve\" class=\"hnuser\">ingve</a> <span class=\"age\"><a href=\"item?id=22341983\">1 day ago</a></span> <span id=\"unv_22341983\"></span> | <a href=\"hide?id=22341983&amp;goto=news\">hide</a> | <a href=\"item?id=22341983\">281&nbsp;comments</a>              </td></tr>\n",
      "      <tr class=\"spacer\" style=\"height:5px\"></tr>\n",
      "                <tr class='athing' id='22346899'>\n",
      "      <td align=\"right\" valign=\"top\" class=\"title\"><span class=\"rank\">28.</span></td>      <td valign=\"top\" class=\"votelinks\"><center><a id='up_22346899' href='vote?id=22346899&amp;how=up&amp;goto=news'><div class='votearrow' title='upvote'></div></a></center></td><td class=\"title\"><a href=\"https://www.zdnet.com/article/iota-cryptocurrency-shuts-down-entire-network-after-wallet-hack/\" class=\"storylink\">Iota cryptocurrency shuts down entire network after wallet hack</a><span class=\"sitebit comhead\"> (<a href=\"from?site=zdnet.com\"><span class=\"sitestr\">zdnet.com</span></a>)</span></td></tr><tr><td colspan=\"2\"></td><td class=\"subtext\">\n",
      "        <span class=\"score\" id=\"score_22346899\">128 points</span> by <a href=\"user?id=miked85\" class=\"hnuser\">miked85</a> <span class=\"age\"><a href=\"item?id=22346899\">5 hours ago</a></span> <span id=\"unv_22346899\"></span> | <a href=\"hide?id=22346899&amp;goto=news\">hide</a> | <a href=\"item?id=22346899\">85&nbsp;comments</a>              </td></tr>\n",
      "      <tr class=\"spacer\" style=\"height:5px\"></tr>\n",
      "                <tr class='athing' id='22332629'>\n",
      "      <td align=\"right\" valign=\"top\" class=\"title\"><span class=\"rank\">29.</span></td>      <td valign=\"top\" class=\"votelinks\"><center><a id='up_22332629' href='vote?id=22332629&amp;how=up&amp;goto=news'><div class='votearrow' title='upvote'></div></a></center></td><td class=\"title\"><a href=\"https://www.robinsloan.com/notes/home-cooked-app/\" class=\"storylink\">An app can be a home-cooked meal</a><span class=\"sitebit comhead\"> (<a href=\"from?site=robinsloan.com\"><span class=\"sitestr\">robinsloan.com</span></a>)</span></td></tr><tr><td colspan=\"2\"></td><td class=\"subtext\">\n",
      "        <span class=\"score\" id=\"score_22332629\">500 points</span> by <a href=\"user?id=mkeeter\" class=\"hnuser\">mkeeter</a> <span class=\"age\"><a href=\"item?id=22332629\">22 hours ago</a></span> <span id=\"unv_22332629\"></span> | <a href=\"hide?id=22332629&amp;goto=news\">hide</a> | <a href=\"item?id=22332629\">117&nbsp;comments</a>              </td></tr>\n",
      "      <tr class=\"spacer\" style=\"height:5px\"></tr>\n",
      "                <tr class='athing' id='22341280'>\n",
      "      <td align=\"right\" valign=\"top\" class=\"title\"><span class=\"rank\">30.</span></td>      <td valign=\"top\" class=\"votelinks\"><center><a id='up_22341280' href='vote?id=22341280&amp;how=up&amp;goto=news'><div class='votearrow' title='upvote'></div></a></center></td><td class=\"title\"><a href=\"http://xtoinfinity.com/posts/comma-free-codes.html\" class=\"storylink\">Comma Free Codes (2015)</a><span class=\"sitebit comhead\"> (<a href=\"from?site=xtoinfinity.com\"><span class=\"sitestr\">xtoinfinity.com</span></a>)</span></td></tr><tr><td colspan=\"2\"></td><td class=\"subtext\">\n",
      "        <span class=\"score\" id=\"score_22341280\">22 points</span> by <a href=\"user?id=orsenthil\" class=\"hnuser\">orsenthil</a> <span class=\"age\"><a href=\"item?id=22341280\">10 hours ago</a></span> <span id=\"unv_22341280\"></span> | <a href=\"hide?id=22341280&amp;goto=news\">hide</a> | <a href=\"item?id=22341280\">discuss</a>              </td></tr>\n",
      "      <tr class=\"spacer\" style=\"height:5px\"></tr>\n",
      "            <tr class=\"morespace\" style=\"height:10px\"></tr><tr><td colspan=\"2\"></td><td class=\"title\"><a href=\"news?p=2\" class=\"morelink\" rel=\"next\">More</a></td></tr>\n",
      "  </table>\n",
      "</td></tr>\n",
      "<tr><td><img src=\"s.gif\" height=\"10\" width=\"0\"><table width=\"100%\" cellspacing=\"0\" cellpadding=\"1\"><tr><td bgcolor=\"#ff6600\"></td></tr></table><br><center><a href=\"https://www.ycombinator.com/apply/\">\n",
      "        Applications are open for YC Summer 2020\n",
      "      </a></center><br><center><span class=\"yclinks\"><a href=\"newsguidelines.html\">Guidelines</a>\n",
      "        | <a href=\"newsfaq.html\">FAQ</a>\n",
      "        | <a href=\"mailto:hn@ycombinator.com\">Support</a>\n",
      "        | <a href=\"https://github.com/HackerNews/API\">API</a>\n",
      "        | <a href=\"security.html\">Security</a>\n",
      "        | <a href=\"lists\">Lists</a>\n",
      "        | <a href=\"bookmarklet.html\" rel=\"nofollow\">Bookmarklet</a>\n",
      "        | <a href=\"http://www.ycombinator.com/legal/\">Legal</a>\n",
      "        | <a href=\"http://www.ycombinator.com/apply/\">Apply to YC</a>\n",
      "        | <a href=\"mailto:hn@ycombinator.com\">Contact</a></span><br><br><form method=\"get\" action=\"//hn.algolia.com/\">Search:\n",
      "          <input type=\"text\" name=\"q\" value=\"\" size=\"17\" autocorrect=\"off\" spellcheck=\"false\" autocapitalize=\"off\" autocomplete=\"false\"></form>\n",
      "            </center></td></tr>\n",
      "      </table></center></body><script type='text/javascript' src='hn.js?GvtQ9Pb5xKMYZzmICAOq'></script></html>\n",
      "\n"
     ]
    }
   ],
   "source": [
    "import requests\n",
    "\n",
    "# Fetch a web page\n",
    "r = requests.get(\"https://news.ycombinator.com\")\n",
    "print(r.text)"
   ]
  },
  {
   "cell_type": "code",
   "execution_count": 5,
   "metadata": {},
   "outputs": [
    {
     "name": "stdout",
     "output_type": "stream",
     "text": [
      "\n",
      "        \n",
      "          \n",
      "        Hacker News\n",
      "        \n",
      "                  Hacker News\n",
      "              new | past | comments | ask | show | jobs | submit            \n",
      "                              login\n",
      "                          \n",
      "              \n",
      "\n",
      "              \n",
      "      1.      Pay Up, or We’ll Make Google Ban Your Ads (krebsonsecurity.com)\n",
      "        127 points by akeck 59 minutes ago  | hide | 23&nbsp;comments              \n",
      "      \n",
      "                \n",
      "      2.      Hacker Laws: Kernighan's Law – You are not smart enough to debug it (github.com)\n",
      "        86 points by dwmkerr 1 hour ago  | hide | 31&nbsp;comments              \n",
      "      \n",
      "                \n",
      "      3.      Markdeep – plain text documents with diagrams, equations, and Markdown syntax (casual-effects.com)\n",
      "        79 points by thunderbong 1 hour ago  | hide | 29&nbsp;comments              \n",
      "      \n",
      "                \n",
      "      4.      Are Courts Keeping “Junk Science” Out of the Courtroom? (psychologicalscience.org)\n",
      "        19 points by EndXA 1 hour ago  | hide | 5&nbsp;comments              \n",
      "      \n",
      "                \n",
      "      5.      How These Things Work – A book about CS from first principles (2016) (reasonablypolymorphic.com)\n",
      "        412 points by falava 8 hours ago  | hide | 38&nbsp;comments              \n",
      "      \n",
      "                \n",
      "      6.      Let’s Build a Compiler (1995) (iecc.com)\n",
      "        154 points by undreren 7 hours ago  | hide | 28&nbsp;comments              \n",
      "      \n",
      "                \n",
      "      7.      GDB Frontend with C Pointer Visualization (github.com)\n",
      "        137 points by mariuz 7 hours ago  | hide | 39&nbsp;comments              \n",
      "      \n",
      "                \n",
      "      8.      The Big Data of Big Hair (2019) (pudding.cool)\n",
      "        58 points by EndXA 3 hours ago  | hide | 5&nbsp;comments              \n",
      "      \n",
      "                \n",
      "      9.      ESO telescope sees surface of dim Betelgeuse (phys.org)\n",
      "        57 points by dnetesn 5 hours ago  | hide | 32&nbsp;comments              \n",
      "      \n",
      "                \n",
      "      10.      Google/Trax – Understand and explore advanced deep learning (github.com)\n",
      "        306 points by Bella-Xiang 14 hours ago  | hide | 41&nbsp;comments              \n",
      "      \n",
      "                \n",
      "      11.      Team Structure for Software Reliability Within Organizations (blameless.com)\n",
      "        82 points by kiyanwang 8 hours ago  | hide | 22&nbsp;comments              \n",
      "      \n",
      "                \n",
      "      12.      Vue.js: The Documentary (Trailer) (youtube.com)\n",
      "        93 points by nailer 2 hours ago  | hide | 32&nbsp;comments              \n",
      "      \n",
      "                \n",
      "      13.      SpaceX first stage landing failed for Starlink-4 launch (reddit.com)\n",
      "        34 points by gokhan 1 hour ago  | hide | 5&nbsp;comments              \n",
      "      \n",
      "                \n",
      "      14.      Met Office forecasters set for 'billion pound' supercomputer (bbc.co.uk)\n",
      "        7 points by aluket 2 hours ago  | hide | 2&nbsp;comments              \n",
      "      \n",
      "                \n",
      "      15.      Rubynetes: Using OpenAPI to validate Kubernetes configs (brightbox.com)\n",
      "        13 points by neilwilson 3 hours ago  | hide | discuss              \n",
      "      \n",
      "                \n",
      "      16.      Insights – Open-Source Self-Hosted Business Intelligence Platform (github.com)\n",
      "        18 points by mariusandra 3 hours ago  | hide | 2&nbsp;comments              \n",
      "      \n",
      "                \n",
      "      17.      Keeping secrets in memfd areas (lwn.net)\n",
      "        55 points by Tomte 8 hours ago  | hide | 2&nbsp;comments              \n",
      "      \n",
      "                \n",
      "      18.      Max: A visual programming language for music and multimedia (wikipedia.org)\n",
      "        24 points by zaiste 5 hours ago  | hide | 12&nbsp;comments              \n",
      "      \n",
      "                \n",
      "      19.      Writing Grant Applications (billwadge.wordpress.com)\n",
      "        145 points by herodotus 14 hours ago  | hide | 37&nbsp;comments              \n",
      "      \n",
      "                \n",
      "      20.      Video Game Keyboard Diagrams (isometricland.net)\n",
      "        67 points by app4soft 9 hours ago  | hide | 18&nbsp;comments              \n",
      "      \n",
      "                \n",
      "      21.      Calculating Pi: My Attempt at Breaking the Pi World Record (timothymullican.com)\n",
      "        120 points by olvy0 12 hours ago  | hide | 60&nbsp;comments              \n",
      "      \n",
      "                \n",
      "      22.      What eight years of side projects have taught me (2019) (junglecoder.com)\n",
      "        328 points by yumaikas 15 hours ago  | hide | 64&nbsp;comments              \n",
      "      \n",
      "                \n",
      "      23.      Show HN: Nodebook – Multi-Lang Web REPL on Docker (github.com)\n",
      "        55 points by netgusto 14 hours ago  | hide | 14&nbsp;comments              \n",
      "      \n",
      "                \n",
      "      24.      Ask HN: What automation tools have you used to replace mundane activities?\n",
      "        304 points by beatthatflight 14 hours ago  | hide | 168&nbsp;comments              \n",
      "      \n",
      "                \n",
      "      25.      1-on-1 meeting questions (github.com)\n",
      "        875 points by yankit 1 day ago  | hide | 261&nbsp;comments              \n",
      "      \n",
      "                \n",
      "      26.      A Brief Introduction to Ice-Penetrating Radar (2015) (lindzey.github.io)\n",
      "        42 points by luu 13 hours ago  | hide | 1&nbsp;comment              \n",
      "      \n",
      "                \n",
      "      27.      I Learned French in 12 Months (runwes.com)\n",
      "        635 points by ingve 1 day ago  | hide | 281&nbsp;comments              \n",
      "      \n",
      "                \n",
      "      28.      Iota cryptocurrency shuts down entire network after wallet hack (zdnet.com)\n",
      "        128 points by miked85 5 hours ago  | hide | 85&nbsp;comments              \n",
      "      \n",
      "                \n",
      "      29.      An app can be a home-cooked meal (robinsloan.com)\n",
      "        500 points by mkeeter 22 hours ago  | hide | 117&nbsp;comments              \n",
      "      \n",
      "                \n",
      "      30.      Comma Free Codes (2015) (xtoinfinity.com)\n",
      "        22 points by orsenthil 10 hours ago  | hide | discuss              \n",
      "      \n",
      "            More\n",
      "  \n",
      "\n",
      "\n",
      "        Applications are open for YC Summer 2020\n",
      "      Guidelines\n",
      "        | FAQ\n",
      "        | Support\n",
      "        | API\n",
      "        | Security\n",
      "        | Lists\n",
      "        | Bookmarklet\n",
      "        | Legal\n",
      "        | Apply to YC\n",
      "        | ContactSearch:\n",
      "          \n",
      "            \n",
      "      \n",
      "\n"
     ]
    }
   ],
   "source": [
    "import re\n",
    "\n",
    "# Remove HTML tags using RegEx\n",
    "pattern = re.compile(r'<.*?>')  # tags look like <...>\n",
    "print(pattern.sub('', r.text))  # replace them with blank"
   ]
  },
  {
   "cell_type": "code",
   "execution_count": 6,
   "metadata": {},
   "outputs": [
    {
     "name": "stdout",
     "output_type": "stream",
     "text": [
      "\n",
      "        \n",
      "          \n",
      "        Hacker News\n",
      "        \n",
      "                  Hacker News\n",
      "              new | past | comments | ask | show | jobs | submit            \n",
      "                              login\n",
      "                          \n",
      "              \n",
      "\n",
      "              \n",
      "      1.      Pay Up, or We’ll Make Google Ban Your Ads (krebsonsecurity.com)\n",
      "        127 points by akeck 59 minutes ago  | hide | 23 comments              \n",
      "      \n",
      "                \n",
      "      2.      Hacker Laws: Kernighan's Law – You are not smart enough to debug it (github.com)\n",
      "        86 points by dwmkerr 1 hour ago  | hide | 31 comments              \n",
      "      \n",
      "                \n",
      "      3.      Markdeep – plain text documents with diagrams, equations, and Markdown syntax (casual-effects.com)\n",
      "        79 points by thunderbong 1 hour ago  | hide | 29 comments              \n",
      "      \n",
      "                \n",
      "      4.      Are Courts Keeping “Junk Science” Out of the Courtroom? (psychologicalscience.org)\n",
      "        19 points by EndXA 1 hour ago  | hide | 5 comments              \n",
      "      \n",
      "                \n",
      "      5.      How These Things Work – A book about CS from first principles (2016) (reasonablypolymorphic.com)\n",
      "        412 points by falava 8 hours ago  | hide | 38 comments              \n",
      "      \n",
      "                \n",
      "      6.      Let’s Build a Compiler (1995) (iecc.com)\n",
      "        154 points by undreren 7 hours ago  | hide | 28 comments              \n",
      "      \n",
      "                \n",
      "      7.      GDB Frontend with C Pointer Visualization (github.com)\n",
      "        137 points by mariuz 7 hours ago  | hide | 39 comments              \n",
      "      \n",
      "                \n",
      "      8.      The Big Data of Big Hair (2019) (pudding.cool)\n",
      "        58 points by EndXA 3 hours ago  | hide | 5 comments              \n",
      "      \n",
      "                \n",
      "      9.      ESO telescope sees surface of dim Betelgeuse (phys.org)\n",
      "        57 points by dnetesn 5 hours ago  | hide | 32 comments              \n",
      "      \n",
      "                \n",
      "      10.      Google/Trax – Understand and explore advanced deep learning (github.com)\n",
      "        306 points by Bella-Xiang 14 hours ago  | hide | 41 comments              \n",
      "      \n",
      "                \n",
      "      11.      Team Structure for Software Reliability Within Organizations (blameless.com)\n",
      "        82 points by kiyanwang 8 hours ago  | hide | 22 comments              \n",
      "      \n",
      "                \n",
      "      12.      Vue.js: The Documentary (Trailer) (youtube.com)\n",
      "        93 points by nailer 2 hours ago  | hide | 32 comments              \n",
      "      \n",
      "                \n",
      "      13.      SpaceX first stage landing failed for Starlink-4 launch (reddit.com)\n",
      "        34 points by gokhan 1 hour ago  | hide | 5 comments              \n",
      "      \n",
      "                \n",
      "      14.      Met Office forecasters set for 'billion pound' supercomputer (bbc.co.uk)\n",
      "        7 points by aluket 2 hours ago  | hide | 2 comments              \n",
      "      \n",
      "                \n",
      "      15.      Rubynetes: Using OpenAPI to validate Kubernetes configs (brightbox.com)\n",
      "        13 points by neilwilson 3 hours ago  | hide | discuss              \n",
      "      \n",
      "                \n",
      "      16.      Insights – Open-Source Self-Hosted Business Intelligence Platform (github.com)\n",
      "        18 points by mariusandra 3 hours ago  | hide | 2 comments              \n",
      "      \n",
      "                \n",
      "      17.      Keeping secrets in memfd areas (lwn.net)\n",
      "        55 points by Tomte 8 hours ago  | hide | 2 comments              \n",
      "      \n",
      "                \n",
      "      18.      Max: A visual programming language for music and multimedia (wikipedia.org)\n",
      "        24 points by zaiste 5 hours ago  | hide | 12 comments              \n",
      "      \n",
      "                \n",
      "      19.      Writing Grant Applications (billwadge.wordpress.com)\n",
      "        145 points by herodotus 14 hours ago  | hide | 37 comments              \n",
      "      \n",
      "                \n",
      "      20.      Video Game Keyboard Diagrams (isometricland.net)\n",
      "        67 points by app4soft 9 hours ago  | hide | 18 comments              \n",
      "      \n",
      "                \n",
      "      21.      Calculating Pi: My Attempt at Breaking the Pi World Record (timothymullican.com)\n",
      "        120 points by olvy0 12 hours ago  | hide | 60 comments              \n",
      "      \n",
      "                \n",
      "      22.      What eight years of side projects have taught me (2019) (junglecoder.com)\n",
      "        328 points by yumaikas 15 hours ago  | hide | 64 comments              \n",
      "      \n",
      "                \n",
      "      23.      Show HN: Nodebook – Multi-Lang Web REPL on Docker (github.com)\n",
      "        55 points by netgusto 14 hours ago  | hide | 14 comments              \n",
      "      \n",
      "                \n",
      "      24.      Ask HN: What automation tools have you used to replace mundane activities?\n",
      "        304 points by beatthatflight 14 hours ago  | hide | 168 comments              \n",
      "      \n",
      "                \n",
      "      25.      1-on-1 meeting questions (github.com)\n",
      "        875 points by yankit 1 day ago  | hide | 261 comments              \n",
      "      \n",
      "                \n",
      "      26.      A Brief Introduction to Ice-Penetrating Radar (2015) (lindzey.github.io)\n",
      "        42 points by luu 13 hours ago  | hide | 1 comment              \n",
      "      \n",
      "                \n",
      "      27.      I Learned French in 12 Months (runwes.com)\n",
      "        635 points by ingve 1 day ago  | hide | 281 comments              \n",
      "      \n",
      "                \n",
      "      28.      Iota cryptocurrency shuts down entire network after wallet hack (zdnet.com)\n",
      "        128 points by miked85 5 hours ago  | hide | 85 comments              \n",
      "      \n",
      "                \n",
      "      29.      An app can be a home-cooked meal (robinsloan.com)\n",
      "        500 points by mkeeter 22 hours ago  | hide | 117 comments              \n",
      "      \n",
      "                \n",
      "      30.      Comma Free Codes (2015) (xtoinfinity.com)\n",
      "        22 points by orsenthil 10 hours ago  | hide | discuss              \n",
      "      \n",
      "            More\n",
      "  \n",
      "\n",
      "\n",
      "        Applications are open for YC Summer 2020\n",
      "      Guidelines\n",
      "        | FAQ\n",
      "        | Support\n",
      "        | API\n",
      "        | Security\n",
      "        | Lists\n",
      "        | Bookmarklet\n",
      "        | Legal\n",
      "        | Apply to YC\n",
      "        | ContactSearch:\n",
      "          \n",
      "            \n",
      "      \n",
      "\n"
     ]
    }
   ],
   "source": [
    "from bs4 import BeautifulSoup\n",
    "\n",
    "# Remove HTML tags using Beautiful Soup library\n",
    "soup = BeautifulSoup(r.text, \"html5lib\")\n",
    "print(soup.get_text())"
   ]
  },
  {
   "cell_type": "code",
   "execution_count": 7,
   "metadata": {
    "scrolled": true
   },
   "outputs": [
    {
     "data": {
      "text/plain": [
       "<tr class=\"athing\" id=\"22348568\">\n",
       "      <td align=\"right\" class=\"title\" valign=\"top\"><span class=\"rank\">1.</span></td>      <td class=\"votelinks\" valign=\"top\"><center><a href=\"vote?id=22348568&amp;how=up&amp;goto=news\" id=\"up_22348568\"><div class=\"votearrow\" title=\"upvote\"></div></a></center></td><td class=\"title\"><a class=\"storylink\" href=\"https://krebsonsecurity.com/2020/02/pay-up-or-well-make-google-ban-your-ads/\">Pay Up, or We’ll Make Google Ban Your Ads</a><span class=\"sitebit comhead\"> (<a href=\"from?site=krebsonsecurity.com\"><span class=\"sitestr\">krebsonsecurity.com</span></a>)</span></td></tr>"
      ]
     },
     "execution_count": 7,
     "metadata": {},
     "output_type": "execute_result"
    }
   ],
   "source": [
    "# Find all articles\n",
    "summaries = soup.find_all(\"tr\", class_=\"athing\")\n",
    "summaries[0]"
   ]
  },
  {
   "cell_type": "code",
   "execution_count": 8,
   "metadata": {},
   "outputs": [
    {
     "data": {
      "text/plain": [
       "'Pay Up, or We’ll Make Google Ban Your Ads'"
      ]
     },
     "execution_count": 8,
     "metadata": {},
     "output_type": "execute_result"
    }
   ],
   "source": [
    "# Extract title\n",
    "summaries[0].find(\"a\", class_=\"storylink\").get_text().strip()"
   ]
  },
  {
   "cell_type": "code",
   "execution_count": 25,
   "metadata": {},
   "outputs": [
    {
     "name": "stdout",
     "output_type": "stream",
     "text": [
      "30 Article summaries found. Sample:\n",
      "['Pay Up, or We’ll Make Google Ban Your Ads', \"Hacker Laws: Kernighan's Law – You are not smart enough to debug it\", 'Markdeep – plain text documents with diagrams, equations, and Markdown syntax', 'Are Courts Keeping “Junk Science” Out of the Courtroom?', 'How These Things Work – A book about CS from first principles (2016)', 'Let’s Build a Compiler (1995)', 'GDB Frontend with C Pointer Visualization', 'The Big Data of Big Hair (2019)', 'ESO telescope sees surface of dim Betelgeuse', 'Google/Trax – Understand and explore advanced deep learning', 'Team Structure for Software Reliability Within Organizations', 'Vue.js: The Documentary (Trailer)', 'SpaceX first stage landing failed for Starlink-4 launch', \"Met Office forecasters set for 'billion pound' supercomputer\", 'Rubynetes: Using OpenAPI to validate Kubernetes configs', 'Insights – Open-Source Self-Hosted Business Intelligence Platform', 'Keeping secrets in memfd areas', 'Max: A visual programming language for music and multimedia', 'Writing Grant Applications', 'Video Game Keyboard Diagrams', 'Calculating Pi: My Attempt at Breaking the Pi World Record', 'What eight years of side projects have taught me (2019)', 'Show HN: Nodebook – Multi-Lang Web REPL on Docker', 'Ask HN: What automation tools have you used to replace mundane activities?', '1-on-1 meeting questions', 'A Brief Introduction to Ice-Penetrating Radar (2015)', 'I Learned French in 12 Months', 'Iota cryptocurrency shuts down entire network after wallet hack', 'An app can be a home-cooked meal', 'Comma Free Codes (2015)']\n"
     ]
    }
   ],
   "source": [
    "# Find all articles, extract titles\n",
    "articles = []\n",
    "summaries = soup.find_all(\"tr\", class_=\"athing\")\n",
    "for summary in summaries:\n",
    "    title = summary.find(\"a\", class_=\"storylink\").get_text().strip()\n",
    "    articles.append((title))\n",
    "\n",
    "print(len(articles), \"Article summaries found. Sample:\")\n",
    "print(articles)"
   ]
  },
  {
   "cell_type": "markdown",
   "metadata": {
    "collapsed": true
   },
   "source": [
    "## Normalization"
   ]
  },
  {
   "cell_type": "markdown",
   "metadata": {},
   "source": [
    "### Case Normalization"
   ]
  },
  {
   "cell_type": "code",
   "execution_count": 10,
   "metadata": {},
   "outputs": [
    {
     "name": "stdout",
     "output_type": "stream",
     "text": [
      "The first time you see The Second Renaissance it may look boring. Look at it at least twice and definitely watch part 2. It will change your view of the matrix. Are the human people the ones who started the war ? Is AI a bad thing ?\n"
     ]
    }
   ],
   "source": [
    "# Sample text\n",
    "text = \"The first time you see The Second Renaissance it may look boring. Look at it at least twice and definitely watch part 2. It will change your view of the matrix. Are the human people the ones who started the war ? Is AI a bad thing ?\"\n",
    "print(text)"
   ]
  },
  {
   "cell_type": "code",
   "execution_count": 11,
   "metadata": {},
   "outputs": [
    {
     "name": "stdout",
     "output_type": "stream",
     "text": [
      "the first time you see the second renaissance it may look boring. look at it at least twice and definitely watch part 2. it will change your view of the matrix. are the human people the ones who started the war ? is ai a bad thing ?\n"
     ]
    }
   ],
   "source": [
    "# Convert to lowercase\n",
    "text = text.lower() \n",
    "print(text)"
   ]
  },
  {
   "cell_type": "markdown",
   "metadata": {},
   "source": [
    "### Punctuation Removal"
   ]
  },
  {
   "cell_type": "code",
   "execution_count": 12,
   "metadata": {},
   "outputs": [
    {
     "name": "stdout",
     "output_type": "stream",
     "text": [
      "the first time you see the second renaissance it may look boring  look at it at least twice and definitely watch part 2  it will change your view of the matrix  are the human people the ones who started the war   is ai a bad thing  \n"
     ]
    }
   ],
   "source": [
    "import re\n",
    "\n",
    "# Remove punctuation characters\n",
    "text = re.sub(r\"[^a-zA-Z0-9]\", \" \", text) \n",
    "print(text)"
   ]
  },
  {
   "cell_type": "markdown",
   "metadata": {},
   "source": [
    "## Tokenization"
   ]
  },
  {
   "cell_type": "code",
   "execution_count": 13,
   "metadata": {},
   "outputs": [
    {
     "name": "stdout",
     "output_type": "stream",
     "text": [
      "['the', 'first', 'time', 'you', 'see', 'the', 'second', 'renaissance', 'it', 'may', 'look', 'boring', 'look', 'at', 'it', 'at', 'least', 'twice', 'and', 'definitely', 'watch', 'part', '2', 'it', 'will', 'change', 'your', 'view', 'of', 'the', 'matrix', 'are', 'the', 'human', 'people', 'the', 'ones', 'who', 'started', 'the', 'war', 'is', 'ai', 'a', 'bad', 'thing']\n"
     ]
    }
   ],
   "source": [
    "# Split text into tokens (words)\n",
    "words = text.split()\n",
    "print(words)"
   ]
  },
  {
   "cell_type": "markdown",
   "metadata": {},
   "source": [
    "### NLTK: Natural Language ToolKit"
   ]
  },
  {
   "cell_type": "code",
   "execution_count": 14,
   "metadata": {},
   "outputs": [],
   "source": [
    "import os\n",
    "import nltk\n",
    "nltk.data.path.append(os.path.join(os.getcwd(), \"nltk_data\"))"
   ]
  },
  {
   "cell_type": "code",
   "execution_count": 15,
   "metadata": {},
   "outputs": [
    {
     "name": "stdout",
     "output_type": "stream",
     "text": [
      "Dr. Smith graduated from the University of Washington. He later started an analytics firm called Lux, which catered to enterprise customers.\n"
     ]
    }
   ],
   "source": [
    "# Another sample text\n",
    "text = \"Dr. Smith graduated from the University of Washington. He later started an analytics firm called Lux, which catered to enterprise customers.\"\n",
    "print(text)"
   ]
  },
  {
   "cell_type": "code",
   "execution_count": 16,
   "metadata": {},
   "outputs": [
    {
     "name": "stdout",
     "output_type": "stream",
     "text": [
      "['Dr.', 'Smith', 'graduated', 'from', 'the', 'University', 'of', 'Washington', '.', 'He', 'later', 'started', 'an', 'analytics', 'firm', 'called', 'Lux', ',', 'which', 'catered', 'to', 'enterprise', 'customers', '.']\n"
     ]
    }
   ],
   "source": [
    "from nltk.tokenize import word_tokenize\n",
    "\n",
    "# Split text into words using NLTK\n",
    "words = word_tokenize(text)\n",
    "print(words)"
   ]
  },
  {
   "cell_type": "code",
   "execution_count": 17,
   "metadata": {},
   "outputs": [
    {
     "name": "stdout",
     "output_type": "stream",
     "text": [
      "['Dr. Smith graduated from the University of Washington.', 'He later started an analytics firm called Lux, which catered to enterprise customers.']\n"
     ]
    }
   ],
   "source": [
    "from nltk.tokenize import sent_tokenize\n",
    "\n",
    "# Split text into sentences\n",
    "sentences = sent_tokenize(text)\n",
    "print(sentences)"
   ]
  },
  {
   "cell_type": "code",
   "execution_count": 18,
   "metadata": {},
   "outputs": [
    {
     "name": "stdout",
     "output_type": "stream",
     "text": [
      "['i', 'me', 'my', 'myself', 'we', 'our', 'ours', 'ourselves', 'you', \"you're\", \"you've\", \"you'll\", \"you'd\", 'your', 'yours', 'yourself', 'yourselves', 'he', 'him', 'his', 'himself', 'she', \"she's\", 'her', 'hers', 'herself', 'it', \"it's\", 'its', 'itself', 'they', 'them', 'their', 'theirs', 'themselves', 'what', 'which', 'who', 'whom', 'this', 'that', \"that'll\", 'these', 'those', 'am', 'is', 'are', 'was', 'were', 'be', 'been', 'being', 'have', 'has', 'had', 'having', 'do', 'does', 'did', 'doing', 'a', 'an', 'the', 'and', 'but', 'if', 'or', 'because', 'as', 'until', 'while', 'of', 'at', 'by', 'for', 'with', 'about', 'against', 'between', 'into', 'through', 'during', 'before', 'after', 'above', 'below', 'to', 'from', 'up', 'down', 'in', 'out', 'on', 'off', 'over', 'under', 'again', 'further', 'then', 'once', 'here', 'there', 'when', 'where', 'why', 'how', 'all', 'any', 'both', 'each', 'few', 'more', 'most', 'other', 'some', 'such', 'no', 'nor', 'not', 'only', 'own', 'same', 'so', 'than', 'too', 'very', 's', 't', 'can', 'will', 'just', 'don', \"don't\", 'should', \"should've\", 'now', 'd', 'll', 'm', 'o', 're', 've', 'y', 'ain', 'aren', \"aren't\", 'couldn', \"couldn't\", 'didn', \"didn't\", 'doesn', \"doesn't\", 'hadn', \"hadn't\", 'hasn', \"hasn't\", 'haven', \"haven't\", 'isn', \"isn't\", 'ma', 'mightn', \"mightn't\", 'mustn', \"mustn't\", 'needn', \"needn't\", 'shan', \"shan't\", 'shouldn', \"shouldn't\", 'wasn', \"wasn't\", 'weren', \"weren't\", 'won', \"won't\", 'wouldn', \"wouldn't\"]\n"
     ]
    }
   ],
   "source": [
    "# List stop words\n",
    "from nltk.corpus import stopwords\n",
    "print(stopwords.words(\"english\"))"
   ]
  },
  {
   "cell_type": "code",
   "execution_count": 19,
   "metadata": {},
   "outputs": [
    {
     "name": "stdout",
     "output_type": "stream",
     "text": [
      "['the', 'first', 'time', 'you', 'see', 'the', 'second', 'renaissance', 'it', 'may', 'look', 'boring', 'look', 'at', 'it', 'at', 'least', 'twice', 'and', 'definitely', 'watch', 'part', '2', 'it', 'will', 'change', 'your', 'view', 'of', 'the', 'matrix', 'are', 'the', 'human', 'people', 'the', 'ones', 'who', 'started', 'the', 'war', 'is', 'ai', 'a', 'bad', 'thing']\n"
     ]
    }
   ],
   "source": [
    "# Reset text\n",
    "text = \"The first time you see The Second Renaissance it may look boring. Look at it at least twice and definitely watch part 2. It will change your view of the matrix. Are the human people the ones who started the war ? Is AI a bad thing ?\"\n",
    "\n",
    "# Normalize it\n",
    "text = re.sub(r\"[^a-zA-Z0-9]\", \" \", text.lower())\n",
    "\n",
    "# Tokenize it\n",
    "words = text.split()\n",
    "print(words)"
   ]
  },
  {
   "cell_type": "code",
   "execution_count": 28,
   "metadata": {},
   "outputs": [
    {
     "name": "stdout",
     "output_type": "stream",
     "text": [
      "['i', 'me', 'my', 'myself', 'we', 'our', 'ours', 'ourselves', 'you', \"you're\", \"you've\", \"you'll\", \"you'd\", 'your', 'yours', 'yourself', 'yourselves', 'he', 'him', 'his', 'himself', 'she', \"she's\", 'her', 'hers', 'herself', 'it', \"it's\", 'its', 'itself', 'they', 'them', 'their', 'theirs', 'themselves', 'what', 'which', 'who', 'whom', 'this', 'that', \"that'll\", 'these', 'those', 'am', 'is', 'are', 'was', 'were', 'be', 'been', 'being', 'have', 'has', 'had', 'having', 'do', 'does', 'did', 'doing', 'a', 'an', 'the', 'and', 'but', 'if', 'or', 'because', 'as', 'until', 'while', 'of', 'at', 'by', 'for', 'with', 'about', 'against', 'between', 'into', 'through', 'during', 'before', 'after', 'above', 'below', 'to', 'from', 'up', 'down', 'in', 'out', 'on', 'off', 'over', 'under', 'again', 'further', 'then', 'once', 'here', 'there', 'when', 'where', 'why', 'how', 'all', 'any', 'both', 'each', 'few', 'more', 'most', 'other', 'some', 'such', 'no', 'nor', 'not', 'only', 'own', 'same', 'so', 'than', 'too', 'very', 's', 't', 'can', 'will', 'just', 'don', \"don't\", 'should', \"should've\", 'now', 'd', 'll', 'm', 'o', 're', 've', 'y', 'ain', 'aren', \"aren't\", 'couldn', \"couldn't\", 'didn', \"didn't\", 'doesn', \"doesn't\", 'hadn', \"hadn't\", 'hasn', \"hasn't\", 'haven', \"haven't\", 'isn', \"isn't\", 'ma', 'mightn', \"mightn't\", 'mustn', \"mustn't\", 'needn', \"needn't\", 'shan', \"shan't\", 'shouldn', \"shouldn't\", 'wasn', \"wasn't\", 'weren', \"weren't\", 'won', \"won't\", 'wouldn', \"wouldn't\"]\n"
     ]
    }
   ],
   "source": [
    "#nltk.download()\n",
    "from nltk.corpus import stopwords\n",
    "print(stopwords.words(\"english\"))"
   ]
  },
  {
   "cell_type": "code",
   "execution_count": 20,
   "metadata": {},
   "outputs": [
    {
     "name": "stdout",
     "output_type": "stream",
     "text": [
      "['first', 'time', 'see', 'second', 'renaissance', 'may', 'look', 'boring', 'look', 'least', 'twice', 'definitely', 'watch', 'part', '2', 'change', 'view', 'matrix', 'human', 'people', 'ones', 'started', 'war', 'ai', 'bad', 'thing']\n"
     ]
    }
   ],
   "source": [
    "# Remove stop words\n",
    "words = [w for w in words if w not in stopwords.words(\"english\")]\n",
    "print(words)"
   ]
  },
  {
   "cell_type": "markdown",
   "metadata": {},
   "source": [
    "### Sentence Parsing"
   ]
  },
  {
   "cell_type": "code",
   "execution_count": 21,
   "metadata": {},
   "outputs": [
    {
     "name": "stdout",
     "output_type": "stream",
     "text": [
      "(S\n",
      "  (NP I)\n",
      "  (VP\n",
      "    (VP (V shot) (NP (Det an) (N elephant)))\n",
      "    (PP (P in) (NP (Det my) (N pajamas)))))\n",
      "(S\n",
      "  (NP I)\n",
      "  (VP\n",
      "    (V shot)\n",
      "    (NP (Det an) (N elephant) (PP (P in) (NP (Det my) (N pajamas))))))\n"
     ]
    }
   ],
   "source": [
    "import nltk\n",
    "\n",
    "# Define a custom grammar\n",
    "my_grammar = nltk.CFG.fromstring(\"\"\"\n",
    "S -> NP VP\n",
    "PP -> P NP\n",
    "NP -> Det N | Det N PP | 'I'\n",
    "VP -> V NP | VP PP\n",
    "Det -> 'an' | 'my'\n",
    "N -> 'elephant' | 'pajamas'\n",
    "V -> 'shot'\n",
    "P -> 'in'\n",
    "\"\"\")\n",
    "parser = nltk.ChartParser(my_grammar)\n",
    "\n",
    "# Parse a sentence\n",
    "sentence = word_tokenize(\"I shot an elephant in my pajamas\")\n",
    "for tree in parser.parse(sentence):\n",
    "    print(tree)"
   ]
  },
  {
   "cell_type": "code",
   "execution_count": 36,
   "metadata": {},
   "outputs": [],
   "source": [
    "# Visualize parse trees\n",
    "\n",
    "for tree in parser.parse(sentence):\n",
    "    tree.draw()"
   ]
  },
  {
   "cell_type": "markdown",
   "metadata": {},
   "source": [
    "### Named Entity Recognition"
   ]
  },
  {
   "cell_type": "code",
   "execution_count": 35,
   "metadata": {},
   "outputs": [],
   "source": [
    "# nltk.download('averaged_perceptron_tagger')\n",
    "# nltk.download('maxent_ne_chunker')\n",
    "# nltk.download('words')"
   ]
  },
  {
   "cell_type": "code",
   "execution_count": 34,
   "metadata": {},
   "outputs": [
    {
     "data": {
      "image/png": "[encoded data removed]",
      "text/plain": [
       "Tree('S', [Tree('GPE', [('Manish', 'JJ')]), ('joined', 'VBD'), Tree('PERSON', [('Microsoft', 'NNP')]), ('as', 'IN'), ('a', 'DT'), Tree('ORGANIZATION', [('Machine', 'NNP')]), ('Learning', 'NNP'), ('Engineer', 'NNP')])"
      ]
     },
     "execution_count": 34,
     "metadata": {},
     "output_type": "execute_result"
    }
   ],
   "source": [
    "from nltk import pos_tag, ne_chunk\n",
    "from nltk.tokenize import word_tokenize\n",
    "\n",
    "# Recognize named entities in a tagged sentence\n",
    "ne_chunk(pos_tag(word_tokenize(\"Manish joined Microsoft as a Machine Learning Engineer\")))"
   ]
  },
  {
   "cell_type": "markdown",
   "metadata": {},
   "source": [
    "## Stemming & Lemmatization\n",
    "\n",
    "### Stemming"
   ]
  },
  {
   "cell_type": "code",
   "execution_count": 22,
   "metadata": {},
   "outputs": [
    {
     "name": "stdout",
     "output_type": "stream",
     "text": [
      "['first', 'time', 'see', 'second', 'renaiss', 'may', 'look', 'bore', 'look', 'least', 'twice', 'definit', 'watch', 'part', '2', 'chang', 'view', 'matrix', 'human', 'peopl', 'one', 'start', 'war', 'ai', 'bad', 'thing']\n"
     ]
    }
   ],
   "source": [
    "from nltk.stem.porter import PorterStemmer\n",
    "\n",
    "# Reduce words to their stems\n",
    "stemmed = [PorterStemmer().stem(w) for w in words]\n",
    "print(stemmed)"
   ]
  },
  {
   "cell_type": "markdown",
   "metadata": {},
   "source": [
    "### Lemmatization"
   ]
  },
  {
   "cell_type": "code",
   "execution_count": 23,
   "metadata": {},
   "outputs": [
    {
     "name": "stdout",
     "output_type": "stream",
     "text": [
      "['first', 'time', 'see', 'second', 'renaissance', 'may', 'look', 'boring', 'look', 'least', 'twice', 'definitely', 'watch', 'part', '2', 'change', 'view', 'matrix', 'human', 'people', 'one', 'started', 'war', 'ai', 'bad', 'thing']\n"
     ]
    }
   ],
   "source": [
    "from nltk.stem.wordnet import WordNetLemmatizer\n",
    "\n",
    "# Reduce words to their root form\n",
    "lemmed = [WordNetLemmatizer().lemmatize(w) for w in words]\n",
    "print(lemmed)"
   ]
  },
  {
   "cell_type": "code",
   "execution_count": 24,
   "metadata": {},
   "outputs": [
    {
     "name": "stdout",
     "output_type": "stream",
     "text": [
      "['first', 'time', 'see', 'second', 'renaissance', 'may', 'look', 'bore', 'look', 'least', 'twice', 'definitely', 'watch', 'part', '2', 'change', 'view', 'matrix', 'human', 'people', 'one', 'start', 'war', 'ai', 'bad', 'thing']\n"
     ]
    }
   ],
   "source": [
    "# Lemmatize verbs by specifying pos\n",
    "lemmed = [WordNetLemmatizer().lemmatize(w, pos='v') for w in lemmed]\n",
    "print(lemmed)"
   ]
  }
 ],
 "metadata": {
  "kernelspec": {
   "display_name": "Python [conda env:udacitynlp] *",
   "language": "python",
   "name": "conda-env-udacitynlp-py"
  },
  "language_info": {
   "codemirror_mode": {
    "name": "ipython",
    "version": 3
   },
   "file_extension": ".py",
   "mimetype": "text/x-python",
   "name": "python",
   "nbconvert_exporter": "python",
   "pygments_lexer": "ipython3",
   "version": "3.7.6"
  }
 },
 "nbformat": 4,
 "nbformat_minor": 2
}
