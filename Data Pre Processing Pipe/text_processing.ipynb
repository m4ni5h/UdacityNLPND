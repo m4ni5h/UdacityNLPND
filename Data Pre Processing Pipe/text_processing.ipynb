{
 "cells": [
  {
   "cell_type": "markdown",
   "metadata": {},
   "source": [
    "# Text Processing\n",
    "\n",
    "## Capturing Text Data\n",
    "\n",
    "### Plain Text"
   ]
  },
  {
   "cell_type": "code",
   "execution_count": 1,
   "metadata": {},
   "outputs": [
    {
     "name": "stdout",
     "output_type": "stream",
     "text": [
      "Hieroglyphic writing dates from c. 3000 BC, and is composed of hundreds of symbols. A hieroglyph can represent a word, a sound, or a silent determinative; and the same symbol can serve different purposes in different contexts. Hieroglyphs were a formal script, used on stone monuments and in tombs, that could be as detailed as individual works of art.\n",
      "\n"
     ]
    }
   ],
   "source": [
    "import os\n",
    "\n",
    "# Read in a plain text file\n",
    "with open(os.path.join(\"data\", \"hieroglyph.txt\"), \"r\") as f:\n",
    "    text = f.read()\n",
    "    print(text)"
   ]
  },
  {
   "cell_type": "markdown",
   "metadata": {},
   "source": [
    "### Tabular Data"
   ]
  },
  {
   "cell_type": "code",
   "execution_count": 2,
   "metadata": {
    "scrolled": true
   },
   "outputs": [
    {
     "data": {
      "text/html": [
       "<div>\n",
       "<style scoped>\n",
       "    .dataframe tbody tr th:only-of-type {\n",
       "        vertical-align: middle;\n",
       "    }\n",
       "\n",
       "    .dataframe tbody tr th {\n",
       "        vertical-align: top;\n",
       "    }\n",
       "\n",
       "    .dataframe thead th {\n",
       "        text-align: right;\n",
       "    }\n",
       "</style>\n",
       "<table border=\"1\" class=\"dataframe\">\n",
       "  <thead>\n",
       "    <tr style=\"text-align: right;\">\n",
       "      <th></th>\n",
       "      <th>publisher</th>\n",
       "      <th>title</th>\n",
       "    </tr>\n",
       "  </thead>\n",
       "  <tbody>\n",
       "    <tr>\n",
       "      <th>0</th>\n",
       "      <td>Livemint</td>\n",
       "      <td>fed's charles plosser sees high bar for change...</td>\n",
       "    </tr>\n",
       "    <tr>\n",
       "      <th>1</th>\n",
       "      <td>IFA Magazine</td>\n",
       "      <td>us open: stocks fall after fed official hints ...</td>\n",
       "    </tr>\n",
       "    <tr>\n",
       "      <th>2</th>\n",
       "      <td>IFA Magazine</td>\n",
       "      <td>fed risks falling 'behind the curve', charles ...</td>\n",
       "    </tr>\n",
       "    <tr>\n",
       "      <th>3</th>\n",
       "      <td>Moneynews</td>\n",
       "      <td>fed's plosser: nasty weather has curbed job gr...</td>\n",
       "    </tr>\n",
       "    <tr>\n",
       "      <th>4</th>\n",
       "      <td>NASDAQ</td>\n",
       "      <td>plosser: fed may have to accelerate tapering pace</td>\n",
       "    </tr>\n",
       "  </tbody>\n",
       "</table>\n",
       "</div>"
      ],
      "text/plain": [
       "      publisher                                              title\n",
       "0      Livemint  fed's charles plosser sees high bar for change...\n",
       "1  IFA Magazine  us open: stocks fall after fed official hints ...\n",
       "2  IFA Magazine  fed risks falling 'behind the curve', charles ...\n",
       "3     Moneynews  fed's plosser: nasty weather has curbed job gr...\n",
       "4        NASDAQ  plosser: fed may have to accelerate tapering pace"
      ]
     },
     "execution_count": 2,
     "metadata": {},
     "output_type": "execute_result"
    }
   ],
   "source": [
    "import pandas as pd\n",
    "\n",
    "# Extract text column from a dataframe\n",
    "df = pd.read_csv(os.path.join(\"data\", \"news.csv\"))\n",
    "df.head()[['publisher', 'title']]\n",
    "\n",
    "# Convert text column to lowercase\n",
    "df['title'] = df['title'].str.lower()\n",
    "df.head()[['publisher', 'title']]"
   ]
  },
  {
   "cell_type": "markdown",
   "metadata": {},
   "source": [
    "### Online Resource"
   ]
  },
  {
   "cell_type": "code",
   "execution_count": 3,
   "metadata": {
    "scrolled": true
   },
   "outputs": [
    {
     "name": "stdout",
     "output_type": "stream",
     "text": [
      "{\n",
      "    \"success\": {\n",
      "        \"total\": 1\n",
      "    },\n",
      "    \"contents\": {\n",
      "        \"quotes\": [\n",
      "            {\n",
      "                \"quote\": \"Only a man who knows what it is like to be defeated can reach down to the bottom of his soul and come up with the extra ounce of power it takes to win when the match is even.\",\n",
      "                \"length\": \"174\",\n",
      "                \"author\": \"Mohamad Ali\",\n",
      "                \"tags\": [\n",
      "                    \"failure\",\n",
      "                    \"inspire\",\n",
      "                    \"learning-from-failure\"\n",
      "                ],\n",
      "                \"category\": \"inspire\",\n",
      "                \"language\": \"en\",\n",
      "                \"date\": \"2020-02-22\",\n",
      "                \"permalink\": \"https://theysaidso.com/quote/mohamad-ali-only-a-man-who-knows-what-it-is-like-to-be-defeated-can-reach-down-t\",\n",
      "                \"id\": \"Ry0zJKKjfxjxz__BMB9plgeF\",\n",
      "                \"background\": \"https://theysaidso.com/img/qod/qod-inspire.jpg\",\n",
      "                \"title\": \"Inspiring Quote of the day\"\n",
      "            }\n",
      "        ]\n",
      "    },\n",
      "    \"baseurl\": \"https://theysaidso.com\",\n",
      "    \"copyright\": {\n",
      "        \"year\": 2022,\n",
      "        \"url\": \"https://theysaidso.com\"\n",
      "    }\n",
      "}\n",
      "Only a man who knows what it is like to be defeated can reach down to the bottom of his soul and come up with the extra ounce of power it takes to win when the match is even. \n",
      "-- Mohamad Ali\n"
     ]
    }
   ],
   "source": [
    "import requests\n",
    "import json\n",
    "\n",
    "# Fetch data from a REST API\n",
    "r = requests.get(\n",
    "    \"https://quotes.rest/qod.json\")\n",
    "res = r.json()\n",
    "print(json.dumps(res, indent=4))\n",
    "\n",
    "# Extract relevant object and field\n",
    "q = res[\"contents\"][\"quotes\"][0]\n",
    "print(q[\"quote\"], \"\\n--\", q[\"author\"])"
   ]
  },
  {
   "cell_type": "markdown",
   "metadata": {},
   "source": [
    "## Cleaning"
   ]
  },
  {
   "cell_type": "code",
   "execution_count": 4,
   "metadata": {
    "scrolled": true
   },
   "outputs": [
    {
     "name": "stdout",
     "output_type": "stream",
     "text": [
      "<html op=\"news\"><head><meta name=\"referrer\" content=\"origin\"><meta name=\"viewport\" content=\"width=device-width, initial-scale=1.0\"><link rel=\"stylesheet\" type=\"text/css\" href=\"news.css?iwWkzQJSMUc4PRcPc7Cu\">\n",
      "        <link rel=\"shortcut icon\" href=\"favicon.ico\">\n",
      "          <link rel=\"alternate\" type=\"application/rss+xml\" title=\"RSS\" href=\"rss\">\n",
      "        <title>Hacker News</title></head><body><center><table id=\"hnmain\" border=\"0\" cellpadding=\"0\" cellspacing=\"0\" width=\"85%\" bgcolor=\"#f6f6ef\">\n",
      "        <tr><td bgcolor=\"#ff6600\"><table border=\"0\" cellpadding=\"0\" cellspacing=\"0\" width=\"100%\" style=\"padding:2px\"><tr><td style=\"width:18px;padding-right:4px\"><a href=\"https://news.ycombinator.com\"><img src=\"y18.gif\" width=\"18\" height=\"18\" style=\"border:1px white solid;\"></a></td>\n",
      "                  <td style=\"line-height:12pt; height:10px;\"><span class=\"pagetop\"><b class=\"hnname\"><a href=\"news\">Hacker News</a></b>\n",
      "              <a href=\"newest\">new</a> | <a href=\"front\">past</a> | <a href=\"newcomments\">comments</a> | <a href=\"ask\">ask</a> | <a href=\"show\">show</a> | <a href=\"jobs\">jobs</a> | <a href=\"submit\">submit</a>            </span></td><td style=\"text-align:right;padding-right:4px;\"><span class=\"pagetop\">\n",
      "                              <a href=\"login?goto=news\">login</a>\n",
      "                          </span></td>\n",
      "              </tr></table></td></tr>\n",
      "<tr id=\"pagespace\" title=\"\" style=\"height:10px\"></tr><tr><td><table border=\"0\" cellpadding=\"0\" cellspacing=\"0\" class=\"itemlist\">\n",
      "              <tr class='athing' id='22382536'>\n",
      "      <td align=\"right\" valign=\"top\" class=\"title\"><span class=\"rank\">1.</span></td>      <td valign=\"top\" class=\"votelinks\"><center><a id='up_22382536' href='vote?id=22382536&amp;how=up&amp;goto=news'><div class='votearrow' title='upvote'></div></a></center></td><td class=\"title\"><a href=\"https://stackoverflow.blog/2020/02/20/requirements-volatility-is-the-core-problem-of-software-engineering/\" class=\"storylink\">Requirements volatility is the core problem of software engineering</a><span class=\"sitebit comhead\"> (<a href=\"from?site=stackoverflow.blog\"><span class=\"sitestr\">stackoverflow.blog</span></a>)</span></td></tr><tr><td colspan=\"2\"></td><td class=\"subtext\">\n",
      "        <span class=\"score\" id=\"score_22382536\">138 points</span> by <a href=\"user?id=luord\" class=\"hnuser\">luord</a> <span class=\"age\"><a href=\"item?id=22382536\">7 hours ago</a></span> <span id=\"unv_22382536\"></span> | <a href=\"hide?id=22382536&amp;goto=news\">hide</a> | <a href=\"item?id=22382536\">74&nbsp;comments</a>              </td></tr>\n",
      "      <tr class=\"spacer\" style=\"height:5px\"></tr>\n",
      "                <tr class='athing' id='22390153'>\n",
      "      <td align=\"right\" valign=\"top\" class=\"title\"><span class=\"rank\">2.</span></td>      <td valign=\"top\" class=\"votelinks\"><center><a id='up_22390153' href='vote?id=22390153&amp;how=up&amp;goto=news'><div class='votearrow' title='upvote'></div></a></center></td><td class=\"title\"><a href=\"https://discuss.ocaml.org/t/ocaml-4-10-released/5194\" class=\"storylink\">OCaml 4.10</a><span class=\"sitebit comhead\"> (<a href=\"from?site=ocaml.org\"><span class=\"sitestr\">ocaml.org</span></a>)</span></td></tr><tr><td colspan=\"2\"></td><td class=\"subtext\">\n",
      "        <span class=\"score\" id=\"score_22390153\">109 points</span> by <a href=\"user?id=pjmlp\" class=\"hnuser\">pjmlp</a> <span class=\"age\"><a href=\"item?id=22390153\">3 hours ago</a></span> <span id=\"unv_22390153\"></span> | <a href=\"hide?id=22390153&amp;goto=news\">hide</a> | <a href=\"item?id=22390153\">24&nbsp;comments</a>              </td></tr>\n",
      "      <tr class=\"spacer\" style=\"height:5px\"></tr>\n",
      "                <tr class='athing' id='22382317'>\n",
      "      <td align=\"right\" valign=\"top\" class=\"title\"><span class=\"rank\">3.</span></td>      <td valign=\"top\" class=\"votelinks\"><center><a id='up_22382317' href='vote?id=22382317&amp;how=up&amp;goto=news'><div class='votearrow' title='upvote'></div></a></center></td><td class=\"title\"><a href=\"https://github.com/norvig/pytudes/blob/master/ipynb/Economics.ipynb\" class=\"storylink\">Peter Norvig's Economic Simulation (2018)</a><span class=\"sitebit comhead\"> (<a href=\"from?site=github.com\"><span class=\"sitestr\">github.com</span></a>)</span></td></tr><tr><td colspan=\"2\"></td><td class=\"subtext\">\n",
      "        <span class=\"score\" id=\"score_22382317\">98 points</span> by <a href=\"user?id=ColinWright\" class=\"hnuser\">ColinWright</a> <span class=\"age\"><a href=\"item?id=22382317\">6 hours ago</a></span> <span id=\"unv_22382317\"></span> | <a href=\"hide?id=22382317&amp;goto=news\">hide</a> | <a href=\"item?id=22382317\">39&nbsp;comments</a>              </td></tr>\n",
      "      <tr class=\"spacer\" style=\"height:5px\"></tr>\n",
      "                <tr class='athing' id='22381722'>\n",
      "      <td align=\"right\" valign=\"top\" class=\"title\"><span class=\"rank\">4.</span></td>      <td valign=\"top\" class=\"votelinks\"><center><a id='up_22381722' href='vote?id=22381722&amp;how=up&amp;goto=news'><div class='votearrow' title='upvote'></div></a></center></td><td class=\"title\"><a href=\"https://www.citylab.com/environment/2020/02/paris-election-anne-hidalgo-city-planning-walks-stores-parks/606325/\" class=\"storylink\">Paris Mayor: It's Time for a '15-Minute City'</a><span class=\"sitebit comhead\"> (<a href=\"from?site=citylab.com\"><span class=\"sitestr\">citylab.com</span></a>)</span></td></tr><tr><td colspan=\"2\"></td><td class=\"subtext\">\n",
      "        <span class=\"score\" id=\"score_22381722\">139 points</span> by <a href=\"user?id=jelliclesfarm\" class=\"hnuser\">jelliclesfarm</a> <span class=\"age\"><a href=\"item?id=22381722\">8 hours ago</a></span> <span id=\"unv_22381722\"></span> | <a href=\"hide?id=22381722&amp;goto=news\">hide</a> | <a href=\"item?id=22381722\">109&nbsp;comments</a>              </td></tr>\n",
      "      <tr class=\"spacer\" style=\"height:5px\"></tr>\n",
      "                <tr class='athing' id='22373906'>\n",
      "      <td align=\"right\" valign=\"top\" class=\"title\"><span class=\"rank\">5.</span></td>      <td valign=\"top\" class=\"votelinks\"><center><a id='up_22373906' href='vote?id=22373906&amp;how=up&amp;goto=news'><div class='votearrow' title='upvote'></div></a></center></td><td class=\"title\"><a href=\"https://www.holloway.com/g/equity-compensation\" class=\"storylink\">Guide to Equity Compensation</a><span class=\"sitebit comhead\"> (<a href=\"from?site=holloway.com\"><span class=\"sitestr\">holloway.com</span></a>)</span></td></tr><tr><td colspan=\"2\"></td><td class=\"subtext\">\n",
      "        <span class=\"score\" id=\"score_22373906\">412 points</span> by <a href=\"user?id=DyslexicAtheist\" class=\"hnuser\">DyslexicAtheist</a> <span class=\"age\"><a href=\"item?id=22373906\">17 hours ago</a></span> <span id=\"unv_22373906\"></span> | <a href=\"hide?id=22373906&amp;goto=news\">hide</a> | <a href=\"item?id=22373906\">176&nbsp;comments</a>              </td></tr>\n",
      "      <tr class=\"spacer\" style=\"height:5px\"></tr>\n",
      "                <tr class='athing' id='22389904'>\n",
      "      <td align=\"right\" valign=\"top\" class=\"title\"><span class=\"rank\">6.</span></td>      <td valign=\"top\" class=\"votelinks\"><center><a id='up_22389904' href='vote?id=22389904&amp;how=up&amp;goto=news'><div class='votearrow' title='upvote'></div></a></center></td><td class=\"title\"><a href=\"http://www.bbc.com/travel/story/20191110-mexico-citys-walking-fish\" class=\"storylink\">Mexico City's 'Walking Fish'</a><span class=\"sitebit comhead\"> (<a href=\"from?site=bbc.com\"><span class=\"sitestr\">bbc.com</span></a>)</span></td></tr><tr><td colspan=\"2\"></td><td class=\"subtext\">\n",
      "        <span class=\"score\" id=\"score_22389904\">27 points</span> by <a href=\"user?id=allthebest\" class=\"hnuser\">allthebest</a> <span class=\"age\"><a href=\"item?id=22389904\">4 hours ago</a></span> <span id=\"unv_22389904\"></span> | <a href=\"hide?id=22389904&amp;goto=news\">hide</a> | <a href=\"item?id=22389904\">discuss</a>              </td></tr>\n",
      "      <tr class=\"spacer\" style=\"height:5px\"></tr>\n",
      "                <tr class='athing' id='22382066'>\n",
      "      <td align=\"right\" valign=\"top\" class=\"title\"><span class=\"rank\">7.</span></td>      <td valign=\"top\" class=\"votelinks\"><center><a id='up_22382066' href='vote?id=22382066&amp;how=up&amp;goto=news'><div class='votearrow' title='upvote'></div></a></center></td><td class=\"title\"><a href=\"https://aws.amazon.com/builders-library/challenges-with-distributed-systems/\" class=\"storylink\">Challenges with distributed systems</a><span class=\"sitebit comhead\"> (<a href=\"from?site=amazon.com\"><span class=\"sitestr\">amazon.com</span></a>)</span></td></tr><tr><td colspan=\"2\"></td><td class=\"subtext\">\n",
      "        <span class=\"score\" id=\"score_22382066\">109 points</span> by <a href=\"user?id=fagnerbrack\" class=\"hnuser\">fagnerbrack</a> <span class=\"age\"><a href=\"item?id=22382066\">10 hours ago</a></span> <span id=\"unv_22382066\"></span> | <a href=\"hide?id=22382066&amp;goto=news\">hide</a> | <a href=\"item?id=22382066\">17&nbsp;comments</a>              </td></tr>\n",
      "      <tr class=\"spacer\" style=\"height:5px\"></tr>\n",
      "                <tr class='athing' id='22390147'>\n",
      "      <td align=\"right\" valign=\"top\" class=\"title\"><span class=\"rank\">8.</span></td>      <td valign=\"top\" class=\"votelinks\"><center><a id='up_22390147' href='vote?id=22390147&amp;how=up&amp;goto=news'><div class='votearrow' title='upvote'></div></a></center></td><td class=\"title\"><a href=\"https://scienceintegritydigest.com/2020/02/21/the-tadpole-paper-mill/\" class=\"storylink\">The Tadpole Paper Mill</a><span class=\"sitebit comhead\"> (<a href=\"from?site=scienceintegritydigest.com\"><span class=\"sitestr\">scienceintegritydigest.com</span></a>)</span></td></tr><tr><td colspan=\"2\"></td><td class=\"subtext\">\n",
      "        <span class=\"score\" id=\"score_22390147\">11 points</span> by <a href=\"user?id=sohkamyung\" class=\"hnuser\">sohkamyung</a> <span class=\"age\"><a href=\"item?id=22390147\">3 hours ago</a></span> <span id=\"unv_22390147\"></span> | <a href=\"hide?id=22390147&amp;goto=news\">hide</a> | <a href=\"item?id=22390147\">discuss</a>              </td></tr>\n",
      "      <tr class=\"spacer\" style=\"height:5px\"></tr>\n",
      "                <tr class='athing' id='22382686'>\n",
      "      <td align=\"right\" valign=\"top\" class=\"title\"><span class=\"rank\">9.</span></td>      <td valign=\"top\" class=\"votelinks\"><center><a id='up_22382686' href='vote?id=22382686&amp;how=up&amp;goto=news'><div class='votearrow' title='upvote'></div></a></center></td><td class=\"title\"><a href=\"https://wiki.bash-hackers.org/\" class=\"storylink\">The Bash Hackers Wiki</a><span class=\"sitebit comhead\"> (<a href=\"from?site=bash-hackers.org\"><span class=\"sitestr\">bash-hackers.org</span></a>)</span></td></tr><tr><td colspan=\"2\"></td><td class=\"subtext\">\n",
      "        <span class=\"score\" id=\"score_22382686\">220 points</span> by <a href=\"user?id=dvfjsdhgfv\" class=\"hnuser\">dvfjsdhgfv</a> <span class=\"age\"><a href=\"item?id=22382686\">14 hours ago</a></span> <span id=\"unv_22382686\"></span> | <a href=\"hide?id=22382686&amp;goto=news\">hide</a> | <a href=\"item?id=22382686\">52&nbsp;comments</a>              </td></tr>\n",
      "      <tr class=\"spacer\" style=\"height:5px\"></tr>\n",
      "                <tr class='athing' id='22381956'>\n",
      "      <td align=\"right\" valign=\"top\" class=\"title\"><span class=\"rank\">10.</span></td>      <td valign=\"top\" class=\"votelinks\"><center><a id='up_22381956' href='vote?id=22381956&amp;how=up&amp;goto=news'><div class='votearrow' title='upvote'></div></a></center></td><td class=\"title\"><a href=\"http://rosettacode.org/wiki/Amb\" class=\"storylink\">Amb</a><span class=\"sitebit comhead\"> (<a href=\"from?site=rosettacode.org\"><span class=\"sitestr\">rosettacode.org</span></a>)</span></td></tr><tr><td colspan=\"2\"></td><td class=\"subtext\">\n",
      "        <span class=\"score\" id=\"score_22381956\">103 points</span> by <a href=\"user?id=Tomte\" class=\"hnuser\">Tomte</a> <span class=\"age\"><a href=\"item?id=22381956\">9 hours ago</a></span> <span id=\"unv_22381956\"></span> | <a href=\"hide?id=22381956&amp;goto=news\">hide</a> | <a href=\"item?id=22381956\">18&nbsp;comments</a>              </td></tr>\n",
      "      <tr class=\"spacer\" style=\"height:5px\"></tr>\n",
      "                <tr class='athing' id='22385491'>\n",
      "      <td align=\"right\" valign=\"top\" class=\"title\"><span class=\"rank\">11.</span></td>      <td valign=\"top\" class=\"votelinks\"><center><a id='up_22385491' href='vote?id=22385491&amp;how=up&amp;goto=news'><div class='votearrow' title='upvote'></div></a></center></td><td class=\"title\"><a href=\"https://www.npr.org/2020/02/21/807133509/enjoy-the-extra-day-off-more-bosses-give-4-day-workweek-a-try\" class=\"storylink\">More bosses give four-day workweek a try</a><span class=\"sitebit comhead\"> (<a href=\"from?site=npr.org\"><span class=\"sitestr\">npr.org</span></a>)</span></td></tr><tr><td colspan=\"2\"></td><td class=\"subtext\">\n",
      "        <span class=\"score\" id=\"score_22385491\">797 points</span> by <a href=\"user?id=hhs\" class=\"hnuser\">hhs</a> <span class=\"age\"><a href=\"item?id=22385491\">18 hours ago</a></span> <span id=\"unv_22385491\"></span> | <a href=\"hide?id=22385491&amp;goto=news\">hide</a> | <a href=\"item?id=22385491\">331&nbsp;comments</a>              </td></tr>\n",
      "      <tr class=\"spacer\" style=\"height:5px\"></tr>\n",
      "                <tr class='athing' id='22385370'>\n",
      "      <td align=\"right\" valign=\"top\" class=\"title\"><span class=\"rank\">12.</span></td>      <td valign=\"top\" class=\"votelinks\"><center><a id='up_22385370' href='vote?id=22385370&amp;how=up&amp;goto=news'><div class='votearrow' title='upvote'></div></a></center></td><td class=\"title\"><a href=\"https://github.com/utmapp/UTM\" class=\"storylink\">QEMU for iOS</a><span class=\"sitebit comhead\"> (<a href=\"from?site=github.com\"><span class=\"sitestr\">github.com</span></a>)</span></td></tr><tr><td colspan=\"2\"></td><td class=\"subtext\">\n",
      "        <span class=\"score\" id=\"score_22385370\">282 points</span> by <a href=\"user?id=funkaster\" class=\"hnuser\">funkaster</a> <span class=\"age\"><a href=\"item?id=22385370\">18 hours ago</a></span> <span id=\"unv_22385370\"></span> | <a href=\"hide?id=22385370&amp;goto=news\">hide</a> | <a href=\"item?id=22385370\">121&nbsp;comments</a>              </td></tr>\n",
      "      <tr class=\"spacer\" style=\"height:5px\"></tr>\n",
      "                <tr class='athing' id='22388639'>\n",
      "      <td align=\"right\" valign=\"top\" class=\"title\"><span class=\"rank\">13.</span></td>      <td valign=\"top\" class=\"votelinks\"><center><a id='up_22388639' href='vote?id=22388639&amp;how=up&amp;goto=news'><div class='votearrow' title='upvote'></div></a></center></td><td class=\"title\"><a href=\"https://github.com/zeit/next.js/discussions\" class=\"storylink\">GitHub Discussions Beta</a><span class=\"sitebit comhead\"> (<a href=\"from?site=github.com\"><span class=\"sitestr\">github.com</span></a>)</span></td></tr><tr><td colspan=\"2\"></td><td class=\"subtext\">\n",
      "        <span class=\"score\" id=\"score_22388639\">178 points</span> by <a href=\"user?id=atymic\" class=\"hnuser\">atymic</a> <span class=\"age\"><a href=\"item?id=22388639\">12 hours ago</a></span> <span id=\"unv_22388639\"></span> | <a href=\"hide?id=22388639&amp;goto=news\">hide</a> | <a href=\"item?id=22388639\">97&nbsp;comments</a>              </td></tr>\n",
      "      <tr class=\"spacer\" style=\"height:5px\"></tr>\n",
      "                <tr class='athing' id='22374794'>\n",
      "      <td align=\"right\" valign=\"top\" class=\"title\"><span class=\"rank\">14.</span></td>      <td valign=\"top\" class=\"votelinks\"><center><a id='up_22374794' href='vote?id=22374794&amp;how=up&amp;goto=news'><div class='votearrow' title='upvote'></div></a></center></td><td class=\"title\"><a href=\"https://sqlite.org/lang_with.html#mandelbrot\" class=\"storylink\">SQL query to generate the Mandelbrot set as ASCII art</a><span class=\"sitebit comhead\"> (<a href=\"from?site=sqlite.org\"><span class=\"sitestr\">sqlite.org</span></a>)</span></td></tr><tr><td colspan=\"2\"></td><td class=\"subtext\">\n",
      "        <span class=\"score\" id=\"score_22374794\">169 points</span> by <a href=\"user?id=mmoez\" class=\"hnuser\">mmoez</a> <span class=\"age\"><a href=\"item?id=22374794\">16 hours ago</a></span> <span id=\"unv_22374794\"></span> | <a href=\"hide?id=22374794&amp;goto=news\">hide</a> | <a href=\"item?id=22374794\">25&nbsp;comments</a>              </td></tr>\n",
      "      <tr class=\"spacer\" style=\"height:5px\"></tr>\n",
      "                <tr class='athing' id='22389239'>\n",
      "      <td align=\"right\" valign=\"top\" class=\"title\"><span class=\"rank\">15.</span></td>      <td valign=\"top\" class=\"votelinks\"><center><a id='up_22389239' href='vote?id=22389239&amp;how=up&amp;goto=news'><div class='votearrow' title='upvote'></div></a></center></td><td class=\"title\"><a href=\"https://github.com/connorwstein/exchange\" class=\"storylink\">Show HN: A first project in Rust – in-memory order book</a><span class=\"sitebit comhead\"> (<a href=\"from?site=github.com\"><span class=\"sitestr\">github.com</span></a>)</span></td></tr><tr><td colspan=\"2\"></td><td class=\"subtext\">\n",
      "        <span class=\"score\" id=\"score_22389239\">53 points</span> by <a href=\"user?id=cstein2\" class=\"hnuser\">cstein2</a> <span class=\"age\"><a href=\"item?id=22389239\">9 hours ago</a></span> <span id=\"unv_22389239\"></span> | <a href=\"hide?id=22389239&amp;goto=news\">hide</a> | <a href=\"item?id=22389239\">21&nbsp;comments</a>              </td></tr>\n",
      "      <tr class=\"spacer\" style=\"height:5px\"></tr>\n",
      "                <tr class='athing' id='22382675'>\n",
      "      <td align=\"right\" valign=\"top\" class=\"title\"><span class=\"rank\">16.</span></td>      <td valign=\"top\" class=\"votelinks\"><center><a id='up_22382675' href='vote?id=22382675&amp;how=up&amp;goto=news'><div class='votearrow' title='upvote'></div></a></center></td><td class=\"title\"><a href=\"http://bhami.com/rosetta.html\" class=\"storylink\">A Sysadmin's Unixersal Translator</a><span class=\"sitebit comhead\"> (<a href=\"from?site=bhami.com\"><span class=\"sitestr\">bhami.com</span></a>)</span></td></tr><tr><td colspan=\"2\"></td><td class=\"subtext\">\n",
      "        <span class=\"score\" id=\"score_22382675\">11 points</span> by <a href=\"user?id=dvfjsdhgfv\" class=\"hnuser\">dvfjsdhgfv</a> <span class=\"age\"><a href=\"item?id=22382675\">4 hours ago</a></span> <span id=\"unv_22382675\"></span> | <a href=\"hide?id=22382675&amp;goto=news\">hide</a> | <a href=\"item?id=22382675\">1&nbsp;comment</a>              </td></tr>\n",
      "      <tr class=\"spacer\" style=\"height:5px\"></tr>\n",
      "                <tr class='athing' id='22368094'>\n",
      "      <td align=\"right\" valign=\"top\" class=\"title\"><span class=\"rank\">17.</span></td>      <td valign=\"top\" class=\"votelinks\"><center><a id='up_22368094' href='vote?id=22368094&amp;how=up&amp;goto=news'><div class='votearrow' title='upvote'></div></a></center></td><td class=\"title\"><a href=\"https://www.nytimes.com/2020/02/17/style/paramedical-tattoos.html\" class=\"storylink\">Paramedical Tattoos</a><span class=\"sitebit comhead\"> (<a href=\"from?site=nytimes.com\"><span class=\"sitestr\">nytimes.com</span></a>)</span></td></tr><tr><td colspan=\"2\"></td><td class=\"subtext\">\n",
      "        <span class=\"score\" id=\"score_22368094\">27 points</span> by <a href=\"user?id=tacon\" class=\"hnuser\">tacon</a> <span class=\"age\"><a href=\"item?id=22368094\">6 hours ago</a></span> <span id=\"unv_22368094\"></span> | <a href=\"hide?id=22368094&amp;goto=news\">hide</a> | <a href=\"item?id=22368094\">1&nbsp;comment</a>              </td></tr>\n",
      "      <tr class=\"spacer\" style=\"height:5px\"></tr>\n",
      "                <tr class='athing' id='22382381'>\n",
      "      <td align=\"right\" valign=\"top\" class=\"title\"><span class=\"rank\">18.</span></td>      <td valign=\"top\" class=\"votelinks\"><center><a id='up_22382381' href='vote?id=22382381&amp;how=up&amp;goto=news'><div class='votearrow' title='upvote'></div></a></center></td><td class=\"title\"><a href=\"https://juxt.pro/blog/posts/babashka.html\" class=\"storylink\">Babashka: A quick example</a><span class=\"sitebit comhead\"> (<a href=\"from?site=juxt.pro\"><span class=\"sitestr\">juxt.pro</span></a>)</span></td></tr><tr><td colspan=\"2\"></td><td class=\"subtext\">\n",
      "        <span class=\"score\" id=\"score_22382381\">18 points</span> by <a href=\"user?id=Borkdude\" class=\"hnuser\">Borkdude</a> <span class=\"age\"><a href=\"item?id=22382381\">5 hours ago</a></span> <span id=\"unv_22382381\"></span> | <a href=\"hide?id=22382381&amp;goto=news\">hide</a> | <a href=\"item?id=22382381\">3&nbsp;comments</a>              </td></tr>\n",
      "      <tr class=\"spacer\" style=\"height:5px\"></tr>\n",
      "                <tr class='athing' id='22383133'>\n",
      "      <td align=\"right\" valign=\"top\" class=\"title\"><span class=\"rank\">19.</span></td>      <td valign=\"top\" class=\"votelinks\"><center><a id='up_22383133' href='vote?id=22383133&amp;how=up&amp;goto=news'><div class='votearrow' title='upvote'></div></a></center></td><td class=\"title\"><a href=\"https://www.economist.com/science-and-technology/2020/02/13/people-leave-molecular-wakes-that-may-give-away-their-secrets\" class=\"storylink\">People leave molecular wakes that may give away their secrets</a><span class=\"sitebit comhead\"> (<a href=\"from?site=economist.com\"><span class=\"sitestr\">economist.com</span></a>)</span></td></tr><tr><td colspan=\"2\"></td><td class=\"subtext\">\n",
      "        <span class=\"score\" id=\"score_22383133\">81 points</span> by <a href=\"user?id=bookofjoe\" class=\"hnuser\">bookofjoe</a> <span class=\"age\"><a href=\"item?id=22383133\">12 hours ago</a></span> <span id=\"unv_22383133\"></span> | <a href=\"hide?id=22383133&amp;goto=news\">hide</a> | <a href=\"item?id=22383133\">21&nbsp;comments</a>              </td></tr>\n",
      "      <tr class=\"spacer\" style=\"height:5px\"></tr>\n",
      "                <tr class='athing' id='22381905'>\n",
      "      <td align=\"right\" valign=\"top\" class=\"title\"><span class=\"rank\">20.</span></td>      <td valign=\"top\" class=\"votelinks\"><center><a id='up_22381905' href='vote?id=22381905&amp;how=up&amp;goto=news'><div class='votearrow' title='upvote'></div></a></center></td><td class=\"title\"><a href=\"https://www.riot-os.org\" class=\"storylink\">Riot OS – Real-Time, MMU optional and threads</a><span class=\"sitebit comhead\"> (<a href=\"from?site=riot-os.org\"><span class=\"sitestr\">riot-os.org</span></a>)</span></td></tr><tr><td colspan=\"2\"></td><td class=\"subtext\">\n",
      "        <span class=\"score\" id=\"score_22381905\">75 points</span> by <a href=\"user?id=anonsivalley652\" class=\"hnuser\">anonsivalley652</a> <span class=\"age\"><a href=\"item?id=22381905\">14 hours ago</a></span> <span id=\"unv_22381905\"></span> | <a href=\"hide?id=22381905&amp;goto=news\">hide</a> | <a href=\"item?id=22381905\">33&nbsp;comments</a>              </td></tr>\n",
      "      <tr class=\"spacer\" style=\"height:5px\"></tr>\n",
      "                <tr class='athing' id='22382262'>\n",
      "      <td align=\"right\" valign=\"top\" class=\"title\"><span class=\"rank\">21.</span></td>      <td valign=\"top\" class=\"votelinks\"><center><a id='up_22382262' href='vote?id=22382262&amp;how=up&amp;goto=news'><div class='votearrow' title='upvote'></div></a></center></td><td class=\"title\"><a href=\"https://www.nytimes.com/interactive/2020/02/19/magazine/salary-sharing.html\" class=\"storylink\">Breaking the Salary Sharing Taboo</a><span class=\"sitebit comhead\"> (<a href=\"from?site=nytimes.com\"><span class=\"sitestr\">nytimes.com</span></a>)</span></td></tr><tr><td colspan=\"2\"></td><td class=\"subtext\">\n",
      "        <span class=\"score\" id=\"score_22382262\">62 points</span> by <a href=\"user?id=pseudolus\" class=\"hnuser\">pseudolus</a> <span class=\"age\"><a href=\"item?id=22382262\">7 hours ago</a></span> <span id=\"unv_22382262\"></span> | <a href=\"hide?id=22382262&amp;goto=news\">hide</a> | <a href=\"item?id=22382262\">75&nbsp;comments</a>              </td></tr>\n",
      "      <tr class=\"spacer\" style=\"height:5px\"></tr>\n",
      "                <tr class='athing' id='22381861'>\n",
      "      <td align=\"right\" valign=\"top\" class=\"title\"><span class=\"rank\">22.</span></td>      <td valign=\"top\" class=\"votelinks\"><center><a id='up_22381861' href='vote?id=22381861&amp;how=up&amp;goto=news'><div class='votearrow' title='upvote'></div></a></center></td><td class=\"title\"><a href=\"http://paulgraham.com/useful.html\" class=\"storylink\">How to Write Usefully</a><span class=\"sitebit comhead\"> (<a href=\"from?site=paulgraham.com\"><span class=\"sitestr\">paulgraham.com</span></a>)</span></td></tr><tr><td colspan=\"2\"></td><td class=\"subtext\">\n",
      "        <span class=\"score\" id=\"score_22381861\">715 points</span> by <a href=\"user?id=r_singh\" class=\"hnuser\">r_singh</a> <span class=\"age\"><a href=\"item?id=22381861\">1 day ago</a></span> <span id=\"unv_22381861\"></span> | <a href=\"hide?id=22381861&amp;goto=news\">hide</a> | <a href=\"item?id=22381861\">262&nbsp;comments</a>              </td></tr>\n",
      "      <tr class=\"spacer\" style=\"height:5px\"></tr>\n",
      "                <tr class='athing' id='22382287'>\n",
      "      <td align=\"right\" valign=\"top\" class=\"title\"><span class=\"rank\">23.</span></td>      <td valign=\"top\" class=\"votelinks\"><center><a id='up_22382287' href='vote?id=22382287&amp;how=up&amp;goto=news'><div class='votearrow' title='upvote'></div></a></center></td><td class=\"title\"><a href=\"https://www.theatlantic.com/science/archive/2020/02/oh-look-ton-giant-viruses-inside-your-mouth/606763/\" class=\"storylink\">Giant Phages: a discovery in the world of viruses</a><span class=\"sitebit comhead\"> (<a href=\"from?site=theatlantic.com\"><span class=\"sitestr\">theatlantic.com</span></a>)</span></td></tr><tr><td colspan=\"2\"></td><td class=\"subtext\">\n",
      "        <span class=\"score\" id=\"score_22382287\">60 points</span> by <a href=\"user?id=pseudolus\" class=\"hnuser\">pseudolus</a> <span class=\"age\"><a href=\"item?id=22382287\">11 hours ago</a></span> <span id=\"unv_22382287\"></span> | <a href=\"hide?id=22382287&amp;goto=news\">hide</a> | <a href=\"item?id=22382287\">2&nbsp;comments</a>              </td></tr>\n",
      "      <tr class=\"spacer\" style=\"height:5px\"></tr>\n",
      "                <tr class='athing' id='22386388'>\n",
      "      <td align=\"right\" valign=\"top\" class=\"title\"><span class=\"rank\">24.</span></td>      <td valign=\"top\" class=\"votelinks\"><center><a id='up_22386388' href='vote?id=22386388&amp;how=up&amp;goto=news'><div class='votearrow' title='upvote'></div></a></center></td><td class=\"title\"><a href=\"https://github.com/Smile4ever/Neat-URL\" class=\"storylink\">Neat URL cleans URLs, removing parameters such as 'fbclid' and 'utm'</a><span class=\"sitebit comhead\"> (<a href=\"from?site=github.com\"><span class=\"sitestr\">github.com</span></a>)</span></td></tr><tr><td colspan=\"2\"></td><td class=\"subtext\">\n",
      "        <span class=\"score\" id=\"score_22386388\">168 points</span> by <a href=\"user?id=mot2ba\" class=\"hnuser\">mot2ba</a> <span class=\"age\"><a href=\"item?id=22386388\">16 hours ago</a></span> <span id=\"unv_22386388\"></span> | <a href=\"hide?id=22386388&amp;goto=news\">hide</a> | <a href=\"item?id=22386388\">62&nbsp;comments</a>              </td></tr>\n",
      "      <tr class=\"spacer\" style=\"height:5px\"></tr>\n",
      "                <tr class='athing' id='22390048'>\n",
      "      <td align=\"right\" valign=\"top\" class=\"title\"><span class=\"rank\">25.</span></td>      <td valign=\"top\" class=\"votelinks\"><center><a id='up_22390048' href='vote?id=22390048&amp;how=up&amp;goto=news'><div class='votearrow' title='upvote'></div></a></center></td><td class=\"title\"><a href=\"https://riskfirst.org/estimating/Journeys\" class=\"storylink\" rel=\"nofollow\">Thinking Journeys rather than Estimates</a><span class=\"sitebit comhead\"> (<a href=\"from?site=riskfirst.org\"><span class=\"sitestr\">riskfirst.org</span></a>)</span></td></tr><tr><td colspan=\"2\"></td><td class=\"subtext\">\n",
      "        <span class=\"score\" id=\"score_22390048\">8 points</span> by <a href=\"user?id=riskfirst\" class=\"hnuser\">riskfirst</a> <span class=\"age\"><a href=\"item?id=22390048\">4 hours ago</a></span> <span id=\"unv_22390048\"></span> | <a href=\"hide?id=22390048&amp;goto=news\">hide</a> | <a href=\"item?id=22390048\">2&nbsp;comments</a>              </td></tr>\n",
      "      <tr class=\"spacer\" style=\"height:5px\"></tr>\n",
      "                <tr class='athing' id='22382694'>\n",
      "      <td align=\"right\" valign=\"top\" class=\"title\"><span class=\"rank\">26.</span></td>      <td valign=\"top\" class=\"votelinks\"><center><a id='up_22382694' href='vote?id=22382694&amp;how=up&amp;goto=news'><div class='votearrow' title='upvote'></div></a></center></td><td class=\"title\"><a href=\"https://www.collaborativefund.com/blog/100-little-ideas/\" class=\"storylink\">Little Ideas</a><span class=\"sitebit comhead\"> (<a href=\"from?site=collaborativefund.com\"><span class=\"sitestr\">collaborativefund.com</span></a>)</span></td></tr><tr><td colspan=\"2\"></td><td class=\"subtext\">\n",
      "        <span class=\"score\" id=\"score_22382694\">70 points</span> by <a href=\"user?id=RickJWagner\" class=\"hnuser\">RickJWagner</a> <span class=\"age\"><a href=\"item?id=22382694\">9 hours ago</a></span> <span id=\"unv_22382694\"></span> | <a href=\"hide?id=22382694&amp;goto=news\">hide</a> | <a href=\"item?id=22382694\">11&nbsp;comments</a>              </td></tr>\n",
      "      <tr class=\"spacer\" style=\"height:5px\"></tr>\n",
      "                <tr class='athing' id='22386960'>\n",
      "      <td align=\"right\" valign=\"top\" class=\"title\"><span class=\"rank\">27.</span></td>      <td valign=\"top\" class=\"votelinks\"><center><a id='up_22386960' href='vote?id=22386960&amp;how=up&amp;goto=news'><div class='votearrow' title='upvote'></div></a></center></td><td class=\"title\"><a href=\"https://petapixel.com/2020/02/21/amazon-let-a-fraudster-keep-my-sony-a7r-iv-and-refunded-him-2900/\" class=\"storylink\">Amazon let a fraudster keep my Sony A74 IV and refunded him</a><span class=\"sitebit comhead\"> (<a href=\"from?site=petapixel.com\"><span class=\"sitestr\">petapixel.com</span></a>)</span></td></tr><tr><td colspan=\"2\"></td><td class=\"subtext\">\n",
      "        <span class=\"score\" id=\"score_22386960\">667 points</span> by <a href=\"user?id=ProAm\" class=\"hnuser\">ProAm</a> <span class=\"age\"><a href=\"item?id=22386960\">15 hours ago</a></span> <span id=\"unv_22386960\"></span> | <a href=\"hide?id=22386960&amp;goto=news\">hide</a> | <a href=\"item?id=22386960\">254&nbsp;comments</a>              </td></tr>\n",
      "      <tr class=\"spacer\" style=\"height:5px\"></tr>\n",
      "                <tr class='athing' id='22382618'>\n",
      "      <td align=\"right\" valign=\"top\" class=\"title\"><span class=\"rank\">28.</span></td>      <td valign=\"top\" class=\"votelinks\"><center><a id='up_22382618' href='vote?id=22382618&amp;how=up&amp;goto=news'><div class='votearrow' title='upvote'></div></a></center></td><td class=\"title\"><a href=\"https://newatlas.com/energy/hb11-hydrogen-boron-fusion-clean-energy/\" class=\"storylink\">Radical hydrogen-boron reactor leapfrogs current nuclear fusion tech?</a><span class=\"sitebit comhead\"> (<a href=\"from?site=newatlas.com\"><span class=\"sitestr\">newatlas.com</span></a>)</span></td></tr><tr><td colspan=\"2\"></td><td class=\"subtext\">\n",
      "        <span class=\"score\" id=\"score_22382618\">693 points</span> by <a href=\"user?id=chris_overseas\" class=\"hnuser\">chris_overseas</a> <span class=\"age\"><a href=\"item?id=22382618\">1 day ago</a></span> <span id=\"unv_22382618\"></span> | <a href=\"hide?id=22382618&amp;goto=news\">hide</a> | <a href=\"item?id=22382618\">253&nbsp;comments</a>              </td></tr>\n",
      "      <tr class=\"spacer\" style=\"height:5px\"></tr>\n",
      "                <tr class='athing' id='22385408'>\n",
      "      <td align=\"right\" valign=\"top\" class=\"title\"><span class=\"rank\">29.</span></td>      <td valign=\"top\" class=\"votelinks\"><center><a id='up_22385408' href='vote?id=22385408&amp;how=up&amp;goto=news'><div class='votearrow' title='upvote'></div></a></center></td><td class=\"title\"><a href=\"https://github.com/ashlinchak/mdanki\" class=\"storylink\">Show HN: MDAnki – convert Markdown to Anki cards</a><span class=\"sitebit comhead\"> (<a href=\"from?site=github.com\"><span class=\"sitestr\">github.com</span></a>)</span></td></tr><tr><td colspan=\"2\"></td><td class=\"subtext\">\n",
      "        <span class=\"score\" id=\"score_22385408\">152 points</span> by <a href=\"user?id=rudnek\" class=\"hnuser\">rudnek</a> <span class=\"age\"><a href=\"item?id=22385408\">18 hours ago</a></span> <span id=\"unv_22385408\"></span> | <a href=\"hide?id=22385408&amp;goto=news\">hide</a> | <a href=\"item?id=22385408\">65&nbsp;comments</a>              </td></tr>\n",
      "      <tr class=\"spacer\" style=\"height:5px\"></tr>\n",
      "                <tr class='athing' id='22382346'>\n",
      "      <td align=\"right\" valign=\"top\" class=\"title\"><span class=\"rank\">30.</span></td>      <td valign=\"top\" class=\"votelinks\"><center><a id='up_22382346' href='vote?id=22382346&amp;how=up&amp;goto=news'><div class='votearrow' title='upvote'></div></a></center></td><td class=\"title\"><a href=\"http://www.foxprohistory.org/interview_wayne_ratliff.htm\" class=\"storylink\">Interview with Wayne Ratliff, author of dBASE (1986)</a><span class=\"sitebit comhead\"> (<a href=\"from?site=foxprohistory.org\"><span class=\"sitestr\">foxprohistory.org</span></a>)</span></td></tr><tr><td colspan=\"2\"></td><td class=\"subtext\">\n",
      "        <span class=\"score\" id=\"score_22382346\">65 points</span> by <a href=\"user?id=eigenvalue\" class=\"hnuser\">eigenvalue</a> <span class=\"age\"><a href=\"item?id=22382346\">14 hours ago</a></span> <span id=\"unv_22382346\"></span> | <a href=\"hide?id=22382346&amp;goto=news\">hide</a> | <a href=\"item?id=22382346\">13&nbsp;comments</a>              </td></tr>\n",
      "      <tr class=\"spacer\" style=\"height:5px\"></tr>\n",
      "            <tr class=\"morespace\" style=\"height:10px\"></tr><tr><td colspan=\"2\"></td><td class=\"title\"><a href=\"news?p=2\" class=\"morelink\" rel=\"next\">More</a></td></tr>\n",
      "  </table>\n",
      "</td></tr>\n",
      "<tr><td><img src=\"s.gif\" height=\"10\" width=\"0\"><table width=\"100%\" cellspacing=\"0\" cellpadding=\"1\"><tr><td bgcolor=\"#ff6600\"></td></tr></table><br><center><a href=\"https://www.ycombinator.com/apply/\">\n",
      "        Applications are open for YC Summer 2020\n",
      "      </a></center><br><center><span class=\"yclinks\"><a href=\"newsguidelines.html\">Guidelines</a>\n",
      "        | <a href=\"newsfaq.html\">FAQ</a>\n",
      "        | <a href=\"mailto:hn@ycombinator.com\">Support</a>\n",
      "        | <a href=\"https://github.com/HackerNews/API\">API</a>\n",
      "        | <a href=\"security.html\">Security</a>\n",
      "        | <a href=\"lists\">Lists</a>\n",
      "        | <a href=\"bookmarklet.html\" rel=\"nofollow\">Bookmarklet</a>\n",
      "        | <a href=\"http://www.ycombinator.com/legal/\">Legal</a>\n",
      "        | <a href=\"http://www.ycombinator.com/apply/\">Apply to YC</a>\n",
      "        | <a href=\"mailto:hn@ycombinator.com\">Contact</a></span><br><br><form method=\"get\" action=\"//hn.algolia.com/\">Search:\n",
      "          <input type=\"text\" name=\"q\" value=\"\" size=\"17\" autocorrect=\"off\" spellcheck=\"false\" autocapitalize=\"off\" autocomplete=\"false\"></form>\n",
      "            </center></td></tr>\n",
      "      </table></center></body><script type='text/javascript' src='hn.js?iwWkzQJSMUc4PRcPc7Cu'></script></html>\n",
      "\n"
     ]
    }
   ],
   "source": [
    "import requests\n",
    "\n",
    "# Fetch a web page\n",
    "r = requests.get(\"https://news.ycombinator.com\")\n",
    "print(r.text)"
   ]
  },
  {
   "cell_type": "code",
   "execution_count": 5,
   "metadata": {},
   "outputs": [
    {
     "name": "stdout",
     "output_type": "stream",
     "text": [
      "\n",
      "        \n",
      "          \n",
      "        Hacker News\n",
      "        \n",
      "                  Hacker News\n",
      "              new | past | comments | ask | show | jobs | submit            \n",
      "                              login\n",
      "                          \n",
      "              \n",
      "\n",
      "              \n",
      "      1.      Requirements volatility is the core problem of software engineering (stackoverflow.blog)\n",
      "        138 points by luord 7 hours ago  | hide | 74&nbsp;comments              \n",
      "      \n",
      "                \n",
      "      2.      OCaml 4.10 (ocaml.org)\n",
      "        109 points by pjmlp 3 hours ago  | hide | 24&nbsp;comments              \n",
      "      \n",
      "                \n",
      "      3.      Peter Norvig's Economic Simulation (2018) (github.com)\n",
      "        98 points by ColinWright 6 hours ago  | hide | 39&nbsp;comments              \n",
      "      \n",
      "                \n",
      "      4.      Paris Mayor: It's Time for a '15-Minute City' (citylab.com)\n",
      "        139 points by jelliclesfarm 8 hours ago  | hide | 109&nbsp;comments              \n",
      "      \n",
      "                \n",
      "      5.      Guide to Equity Compensation (holloway.com)\n",
      "        412 points by DyslexicAtheist 17 hours ago  | hide | 176&nbsp;comments              \n",
      "      \n",
      "                \n",
      "      6.      Mexico City's 'Walking Fish' (bbc.com)\n",
      "        27 points by allthebest 4 hours ago  | hide | discuss              \n",
      "      \n",
      "                \n",
      "      7.      Challenges with distributed systems (amazon.com)\n",
      "        109 points by fagnerbrack 10 hours ago  | hide | 17&nbsp;comments              \n",
      "      \n",
      "                \n",
      "      8.      The Tadpole Paper Mill (scienceintegritydigest.com)\n",
      "        11 points by sohkamyung 3 hours ago  | hide | discuss              \n",
      "      \n",
      "                \n",
      "      9.      The Bash Hackers Wiki (bash-hackers.org)\n",
      "        220 points by dvfjsdhgfv 14 hours ago  | hide | 52&nbsp;comments              \n",
      "      \n",
      "                \n",
      "      10.      Amb (rosettacode.org)\n",
      "        103 points by Tomte 9 hours ago  | hide | 18&nbsp;comments              \n",
      "      \n",
      "                \n",
      "      11.      More bosses give four-day workweek a try (npr.org)\n",
      "        797 points by hhs 18 hours ago  | hide | 331&nbsp;comments              \n",
      "      \n",
      "                \n",
      "      12.      QEMU for iOS (github.com)\n",
      "        282 points by funkaster 18 hours ago  | hide | 121&nbsp;comments              \n",
      "      \n",
      "                \n",
      "      13.      GitHub Discussions Beta (github.com)\n",
      "        178 points by atymic 12 hours ago  | hide | 97&nbsp;comments              \n",
      "      \n",
      "                \n",
      "      14.      SQL query to generate the Mandelbrot set as ASCII art (sqlite.org)\n",
      "        169 points by mmoez 16 hours ago  | hide | 25&nbsp;comments              \n",
      "      \n",
      "                \n",
      "      15.      Show HN: A first project in Rust – in-memory order book (github.com)\n",
      "        53 points by cstein2 9 hours ago  | hide | 21&nbsp;comments              \n",
      "      \n",
      "                \n",
      "      16.      A Sysadmin's Unixersal Translator (bhami.com)\n",
      "        11 points by dvfjsdhgfv 4 hours ago  | hide | 1&nbsp;comment              \n",
      "      \n",
      "                \n",
      "      17.      Paramedical Tattoos (nytimes.com)\n",
      "        27 points by tacon 6 hours ago  | hide | 1&nbsp;comment              \n",
      "      \n",
      "                \n",
      "      18.      Babashka: A quick example (juxt.pro)\n",
      "        18 points by Borkdude 5 hours ago  | hide | 3&nbsp;comments              \n",
      "      \n",
      "                \n",
      "      19.      People leave molecular wakes that may give away their secrets (economist.com)\n",
      "        81 points by bookofjoe 12 hours ago  | hide | 21&nbsp;comments              \n",
      "      \n",
      "                \n",
      "      20.      Riot OS – Real-Time, MMU optional and threads (riot-os.org)\n",
      "        75 points by anonsivalley652 14 hours ago  | hide | 33&nbsp;comments              \n",
      "      \n",
      "                \n",
      "      21.      Breaking the Salary Sharing Taboo (nytimes.com)\n",
      "        62 points by pseudolus 7 hours ago  | hide | 75&nbsp;comments              \n",
      "      \n",
      "                \n",
      "      22.      How to Write Usefully (paulgraham.com)\n",
      "        715 points by r_singh 1 day ago  | hide | 262&nbsp;comments              \n",
      "      \n",
      "                \n",
      "      23.      Giant Phages: a discovery in the world of viruses (theatlantic.com)\n",
      "        60 points by pseudolus 11 hours ago  | hide | 2&nbsp;comments              \n",
      "      \n",
      "                \n",
      "      24.      Neat URL cleans URLs, removing parameters such as 'fbclid' and 'utm' (github.com)\n",
      "        168 points by mot2ba 16 hours ago  | hide | 62&nbsp;comments              \n",
      "      \n",
      "                \n",
      "      25.      Thinking Journeys rather than Estimates (riskfirst.org)\n",
      "        8 points by riskfirst 4 hours ago  | hide | 2&nbsp;comments              \n",
      "      \n",
      "                \n",
      "      26.      Little Ideas (collaborativefund.com)\n",
      "        70 points by RickJWagner 9 hours ago  | hide | 11&nbsp;comments              \n",
      "      \n",
      "                \n",
      "      27.      Amazon let a fraudster keep my Sony A74 IV and refunded him (petapixel.com)\n",
      "        667 points by ProAm 15 hours ago  | hide | 254&nbsp;comments              \n",
      "      \n",
      "                \n",
      "      28.      Radical hydrogen-boron reactor leapfrogs current nuclear fusion tech? (newatlas.com)\n",
      "        693 points by chris_overseas 1 day ago  | hide | 253&nbsp;comments              \n",
      "      \n",
      "                \n",
      "      29.      Show HN: MDAnki – convert Markdown to Anki cards (github.com)\n",
      "        152 points by rudnek 18 hours ago  | hide | 65&nbsp;comments              \n",
      "      \n",
      "                \n",
      "      30.      Interview with Wayne Ratliff, author of dBASE (1986) (foxprohistory.org)\n",
      "        65 points by eigenvalue 14 hours ago  | hide | 13&nbsp;comments              \n",
      "      \n",
      "            More\n",
      "  \n",
      "\n",
      "\n",
      "        Applications are open for YC Summer 2020\n",
      "      Guidelines\n",
      "        | FAQ\n",
      "        | Support\n",
      "        | API\n",
      "        | Security\n",
      "        | Lists\n",
      "        | Bookmarklet\n",
      "        | Legal\n",
      "        | Apply to YC\n",
      "        | ContactSearch:\n",
      "          \n",
      "            \n",
      "      \n",
      "\n"
     ]
    }
   ],
   "source": [
    "import re\n",
    "\n",
    "# Remove HTML tags using RegEx\n",
    "pattern = re.compile(r'<.*?>')  # tags look like <...>\n",
    "print(pattern.sub('', r.text))  # replace them with blank"
   ]
  },
  {
   "cell_type": "code",
   "execution_count": 6,
   "metadata": {},
   "outputs": [
    {
     "name": "stdout",
     "output_type": "stream",
     "text": [
      "\n",
      "        \n",
      "          \n",
      "        Hacker News\n",
      "        \n",
      "                  Hacker News\n",
      "              new | past | comments | ask | show | jobs | submit            \n",
      "                              login\n",
      "                          \n",
      "              \n",
      "\n",
      "              \n",
      "      1.      Requirements volatility is the core problem of software engineering (stackoverflow.blog)\n",
      "        138 points by luord 7 hours ago  | hide | 74 comments              \n",
      "      \n",
      "                \n",
      "      2.      OCaml 4.10 (ocaml.org)\n",
      "        109 points by pjmlp 3 hours ago  | hide | 24 comments              \n",
      "      \n",
      "                \n",
      "      3.      Peter Norvig's Economic Simulation (2018) (github.com)\n",
      "        98 points by ColinWright 6 hours ago  | hide | 39 comments              \n",
      "      \n",
      "                \n",
      "      4.      Paris Mayor: It's Time for a '15-Minute City' (citylab.com)\n",
      "        139 points by jelliclesfarm 8 hours ago  | hide | 109 comments              \n",
      "      \n",
      "                \n",
      "      5.      Guide to Equity Compensation (holloway.com)\n",
      "        412 points by DyslexicAtheist 17 hours ago  | hide | 176 comments              \n",
      "      \n",
      "                \n",
      "      6.      Mexico City's 'Walking Fish' (bbc.com)\n",
      "        27 points by allthebest 4 hours ago  | hide | discuss              \n",
      "      \n",
      "                \n",
      "      7.      Challenges with distributed systems (amazon.com)\n",
      "        109 points by fagnerbrack 10 hours ago  | hide | 17 comments              \n",
      "      \n",
      "                \n",
      "      8.      The Tadpole Paper Mill (scienceintegritydigest.com)\n",
      "        11 points by sohkamyung 3 hours ago  | hide | discuss              \n",
      "      \n",
      "                \n",
      "      9.      The Bash Hackers Wiki (bash-hackers.org)\n",
      "        220 points by dvfjsdhgfv 14 hours ago  | hide | 52 comments              \n",
      "      \n",
      "                \n",
      "      10.      Amb (rosettacode.org)\n",
      "        103 points by Tomte 9 hours ago  | hide | 18 comments              \n",
      "      \n",
      "                \n",
      "      11.      More bosses give four-day workweek a try (npr.org)\n",
      "        797 points by hhs 18 hours ago  | hide | 331 comments              \n",
      "      \n",
      "                \n",
      "      12.      QEMU for iOS (github.com)\n",
      "        282 points by funkaster 18 hours ago  | hide | 121 comments              \n",
      "      \n",
      "                \n",
      "      13.      GitHub Discussions Beta (github.com)\n",
      "        178 points by atymic 12 hours ago  | hide | 97 comments              \n",
      "      \n",
      "                \n",
      "      14.      SQL query to generate the Mandelbrot set as ASCII art (sqlite.org)\n",
      "        169 points by mmoez 16 hours ago  | hide | 25 comments              \n",
      "      \n",
      "                \n",
      "      15.      Show HN: A first project in Rust – in-memory order book (github.com)\n",
      "        53 points by cstein2 9 hours ago  | hide | 21 comments              \n",
      "      \n",
      "                \n",
      "      16.      A Sysadmin's Unixersal Translator (bhami.com)\n",
      "        11 points by dvfjsdhgfv 4 hours ago  | hide | 1 comment              \n",
      "      \n",
      "                \n",
      "      17.      Paramedical Tattoos (nytimes.com)\n",
      "        27 points by tacon 6 hours ago  | hide | 1 comment              \n",
      "      \n",
      "                \n",
      "      18.      Babashka: A quick example (juxt.pro)\n",
      "        18 points by Borkdude 5 hours ago  | hide | 3 comments              \n",
      "      \n",
      "                \n",
      "      19.      People leave molecular wakes that may give away their secrets (economist.com)\n",
      "        81 points by bookofjoe 12 hours ago  | hide | 21 comments              \n",
      "      \n",
      "                \n",
      "      20.      Riot OS – Real-Time, MMU optional and threads (riot-os.org)\n",
      "        75 points by anonsivalley652 14 hours ago  | hide | 33 comments              \n",
      "      \n",
      "                \n",
      "      21.      Breaking the Salary Sharing Taboo (nytimes.com)\n",
      "        62 points by pseudolus 7 hours ago  | hide | 75 comments              \n",
      "      \n",
      "                \n",
      "      22.      How to Write Usefully (paulgraham.com)\n",
      "        715 points by r_singh 1 day ago  | hide | 262 comments              \n",
      "      \n",
      "                \n",
      "      23.      Giant Phages: a discovery in the world of viruses (theatlantic.com)\n",
      "        60 points by pseudolus 11 hours ago  | hide | 2 comments              \n",
      "      \n",
      "                \n",
      "      24.      Neat URL cleans URLs, removing parameters such as 'fbclid' and 'utm' (github.com)\n",
      "        168 points by mot2ba 16 hours ago  | hide | 62 comments              \n",
      "      \n",
      "                \n",
      "      25.      Thinking Journeys rather than Estimates (riskfirst.org)\n",
      "        8 points by riskfirst 4 hours ago  | hide | 2 comments              \n",
      "      \n",
      "                \n",
      "      26.      Little Ideas (collaborativefund.com)\n",
      "        70 points by RickJWagner 9 hours ago  | hide | 11 comments              \n",
      "      \n",
      "                \n",
      "      27.      Amazon let a fraudster keep my Sony A74 IV and refunded him (petapixel.com)\n",
      "        667 points by ProAm 15 hours ago  | hide | 254 comments              \n",
      "      \n",
      "                \n",
      "      28.      Radical hydrogen-boron reactor leapfrogs current nuclear fusion tech? (newatlas.com)\n",
      "        693 points by chris_overseas 1 day ago  | hide | 253 comments              \n",
      "      \n",
      "                \n",
      "      29.      Show HN: MDAnki – convert Markdown to Anki cards (github.com)\n",
      "        152 points by rudnek 18 hours ago  | hide | 65 comments              \n",
      "      \n",
      "                \n",
      "      30.      Interview with Wayne Ratliff, author of dBASE (1986) (foxprohistory.org)\n",
      "        65 points by eigenvalue 14 hours ago  | hide | 13 comments              \n",
      "      \n",
      "            More\n",
      "  \n",
      "\n",
      "\n",
      "        Applications are open for YC Summer 2020\n",
      "      Guidelines\n",
      "        | FAQ\n",
      "        | Support\n",
      "        | API\n",
      "        | Security\n",
      "        | Lists\n",
      "        | Bookmarklet\n",
      "        | Legal\n",
      "        | Apply to YC\n",
      "        | ContactSearch:\n",
      "          \n",
      "            \n",
      "      \n",
      "\n"
     ]
    }
   ],
   "source": [
    "from bs4 import BeautifulSoup\n",
    "\n",
    "# Remove HTML tags using Beautiful Soup library\n",
    "soup = BeautifulSoup(r.text, \"html5lib\")\n",
    "print(soup.get_text())"
   ]
  },
  {
   "cell_type": "code",
   "execution_count": 7,
   "metadata": {
    "scrolled": true
   },
   "outputs": [
    {
     "data": {
      "text/plain": [
       "<tr class=\"athing\" id=\"22382536\">\n",
       "      <td align=\"right\" class=\"title\" valign=\"top\"><span class=\"rank\">1.</span></td>      <td class=\"votelinks\" valign=\"top\"><center><a href=\"vote?id=22382536&amp;how=up&amp;goto=news\" id=\"up_22382536\"><div class=\"votearrow\" title=\"upvote\"></div></a></center></td><td class=\"title\"><a class=\"storylink\" href=\"https://stackoverflow.blog/2020/02/20/requirements-volatility-is-the-core-problem-of-software-engineering/\">Requirements volatility is the core problem of software engineering</a><span class=\"sitebit comhead\"> (<a href=\"from?site=stackoverflow.blog\"><span class=\"sitestr\">stackoverflow.blog</span></a>)</span></td></tr>"
      ]
     },
     "execution_count": 7,
     "metadata": {},
     "output_type": "execute_result"
    }
   ],
   "source": [
    "# Find all articles\n",
    "summaries = soup.find_all(\"tr\", class_=\"athing\")\n",
    "summaries[0]"
   ]
  },
  {
   "cell_type": "code",
   "execution_count": 8,
   "metadata": {},
   "outputs": [
    {
     "data": {
      "text/plain": [
       "'Requirements volatility is the core problem of software engineering'"
      ]
     },
     "execution_count": 8,
     "metadata": {},
     "output_type": "execute_result"
    }
   ],
   "source": [
    "# Extract title\n",
    "summaries[0].find(\"a\", class_=\"storylink\").get_text().strip()"
   ]
  },
  {
   "cell_type": "code",
   "execution_count": 9,
   "metadata": {},
   "outputs": [
    {
     "name": "stdout",
     "output_type": "stream",
     "text": [
      "30 Article summaries found. Sample:\n",
      "['Requirements volatility is the core problem of software engineering', 'OCaml 4.10', \"Peter Norvig's Economic Simulation (2018)\", \"Paris Mayor: It's Time for a '15-Minute City'\", 'Guide to Equity Compensation', \"Mexico City's 'Walking Fish'\", 'Challenges with distributed systems', 'The Tadpole Paper Mill', 'The Bash Hackers Wiki', 'Amb', 'More bosses give four-day workweek a try', 'QEMU for iOS', 'GitHub Discussions Beta', 'SQL query to generate the Mandelbrot set as ASCII art', 'Show HN: A first project in Rust – in-memory order book', \"A Sysadmin's Unixersal Translator\", 'Paramedical Tattoos', 'Babashka: A quick example', 'People leave molecular wakes that may give away their secrets', 'Riot OS – Real-Time, MMU optional and threads', 'Breaking the Salary Sharing Taboo', 'How to Write Usefully', 'Giant Phages: a discovery in the world of viruses', \"Neat URL cleans URLs, removing parameters such as 'fbclid' and 'utm'\", 'Thinking Journeys rather than Estimates', 'Little Ideas', 'Amazon let a fraudster keep my Sony A74 IV and refunded him', 'Radical hydrogen-boron reactor leapfrogs current nuclear fusion tech?', 'Show HN: MDAnki – convert Markdown to Anki cards', 'Interview with Wayne Ratliff, author of dBASE (1986)']\n"
     ]
    }
   ],
   "source": [
    "# Find all articles, extract titles\n",
    "articles = []\n",
    "summaries = soup.find_all(\"tr\", class_=\"athing\")\n",
    "for summary in summaries:\n",
    "    title = summary.find(\"a\", class_=\"storylink\").get_text().strip()\n",
    "    articles.append((title))\n",
    "\n",
    "print(len(articles), \"Article summaries found. Sample:\")\n",
    "print(articles)"
   ]
  },
  {
   "cell_type": "markdown",
   "metadata": {
    "collapsed": true
   },
   "source": [
    "## Normalization"
   ]
  },
  {
   "cell_type": "markdown",
   "metadata": {},
   "source": [
    "### Case Normalization"
   ]
  },
  {
   "cell_type": "code",
   "execution_count": 10,
   "metadata": {},
   "outputs": [
    {
     "name": "stdout",
     "output_type": "stream",
     "text": [
      "The first time you see The Second Renaissance it may look boring. Look at it at least twice and definitely watch part 2. It will change your view of the matrix. Are the human people the ones who started the war ? Is AI a bad thing ?\n"
     ]
    }
   ],
   "source": [
    "# Sample text\n",
    "text = \"The first time you see The Second Renaissance it may look boring. Look at it at least twice and definitely watch part 2. It will change your view of the matrix. Are the human people the ones who started the war ? Is AI a bad thing ?\"\n",
    "print(text)"
   ]
  },
  {
   "cell_type": "code",
   "execution_count": 11,
   "metadata": {},
   "outputs": [
    {
     "name": "stdout",
     "output_type": "stream",
     "text": [
      "the first time you see the second renaissance it may look boring. look at it at least twice and definitely watch part 2. it will change your view of the matrix. are the human people the ones who started the war ? is ai a bad thing ?\n"
     ]
    }
   ],
   "source": [
    "# Convert to lowercase\n",
    "text = text.lower() \n",
    "print(text)"
   ]
  },
  {
   "cell_type": "markdown",
   "metadata": {},
   "source": [
    "### Punctuation Removal"
   ]
  },
  {
   "cell_type": "code",
   "execution_count": 12,
   "metadata": {},
   "outputs": [
    {
     "name": "stdout",
     "output_type": "stream",
     "text": [
      "the first time you see the second renaissance it may look boring  look at it at least twice and definitely watch part 2  it will change your view of the matrix  are the human people the ones who started the war   is ai a bad thing  \n"
     ]
    }
   ],
   "source": [
    "import re\n",
    "\n",
    "# Remove punctuation characters\n",
    "text = re.sub(r\"[^a-zA-Z0-9]\", \" \", text) \n",
    "print(text)"
   ]
  },
  {
   "cell_type": "markdown",
   "metadata": {},
   "source": [
    "## Tokenization"
   ]
  },
  {
   "cell_type": "code",
   "execution_count": 13,
   "metadata": {},
   "outputs": [
    {
     "name": "stdout",
     "output_type": "stream",
     "text": [
      "['the', 'first', 'time', 'you', 'see', 'the', 'second', 'renaissance', 'it', 'may', 'look', 'boring', 'look', 'at', 'it', 'at', 'least', 'twice', 'and', 'definitely', 'watch', 'part', '2', 'it', 'will', 'change', 'your', 'view', 'of', 'the', 'matrix', 'are', 'the', 'human', 'people', 'the', 'ones', 'who', 'started', 'the', 'war', 'is', 'ai', 'a', 'bad', 'thing']\n"
     ]
    }
   ],
   "source": [
    "# Split text into tokens (words)\n",
    "words = text.split()\n",
    "print(words)"
   ]
  },
  {
   "cell_type": "markdown",
   "metadata": {},
   "source": [
    "### NLTK: Natural Language ToolKit"
   ]
  },
  {
   "cell_type": "code",
   "execution_count": 14,
   "metadata": {},
   "outputs": [],
   "source": [
    "import os\n",
    "import nltk\n",
    "nltk.data.path.append(os.path.join(os.getcwd(), \"nltk_data\"))"
   ]
  },
  {
   "cell_type": "code",
   "execution_count": 15,
   "metadata": {},
   "outputs": [
    {
     "name": "stdout",
     "output_type": "stream",
     "text": [
      "Dr. Smith graduated from the University of Washington. He later started an analytics firm called Lux, which catered to enterprise customers.\n"
     ]
    }
   ],
   "source": [
    "# Another sample text\n",
    "text = \"Dr. Smith graduated from the University of Washington. He later started an analytics firm called Lux, which catered to enterprise customers.\"\n",
    "print(text)"
   ]
  },
  {
   "cell_type": "code",
   "execution_count": 16,
   "metadata": {},
   "outputs": [],
   "source": [
    "# nltk.download('punkt')"
   ]
  },
  {
   "cell_type": "code",
   "execution_count": 17,
   "metadata": {},
   "outputs": [
    {
     "name": "stdout",
     "output_type": "stream",
     "text": [
      "['Dr.', 'Smith', 'graduated', 'from', 'the', 'University', 'of', 'Washington', '.', 'He', 'later', 'started', 'an', 'analytics', 'firm', 'called', 'Lux', ',', 'which', 'catered', 'to', 'enterprise', 'customers', '.']\n"
     ]
    }
   ],
   "source": [
    "from nltk.tokenize import word_tokenize\n",
    "\n",
    "# Split text into words using NLTK\n",
    "words = word_tokenize(text)\n",
    "print(words)"
   ]
  },
  {
   "cell_type": "code",
   "execution_count": 18,
   "metadata": {},
   "outputs": [
    {
     "name": "stdout",
     "output_type": "stream",
     "text": [
      "['Dr. Smith graduated from the University of Washington.', 'He later started an analytics firm called Lux, which catered to enterprise customers.']\n"
     ]
    }
   ],
   "source": [
    "from nltk.tokenize import sent_tokenize\n",
    "\n",
    "# Split text into sentences\n",
    "sentences = sent_tokenize(text)\n",
    "print(sentences)"
   ]
  },
  {
   "cell_type": "code",
   "execution_count": 19,
   "metadata": {},
   "outputs": [
    {
     "name": "stdout",
     "output_type": "stream",
     "text": [
      "['i', 'me', 'my', 'myself', 'we', 'our', 'ours', 'ourselves', 'you', \"you're\", \"you've\", \"you'll\", \"you'd\", 'your', 'yours', 'yourself', 'yourselves', 'he', 'him', 'his', 'himself', 'she', \"she's\", 'her', 'hers', 'herself', 'it', \"it's\", 'its', 'itself', 'they', 'them', 'their', 'theirs', 'themselves', 'what', 'which', 'who', 'whom', 'this', 'that', \"that'll\", 'these', 'those', 'am', 'is', 'are', 'was', 'were', 'be', 'been', 'being', 'have', 'has', 'had', 'having', 'do', 'does', 'did', 'doing', 'a', 'an', 'the', 'and', 'but', 'if', 'or', 'because', 'as', 'until', 'while', 'of', 'at', 'by', 'for', 'with', 'about', 'against', 'between', 'into', 'through', 'during', 'before', 'after', 'above', 'below', 'to', 'from', 'up', 'down', 'in', 'out', 'on', 'off', 'over', 'under', 'again', 'further', 'then', 'once', 'here', 'there', 'when', 'where', 'why', 'how', 'all', 'any', 'both', 'each', 'few', 'more', 'most', 'other', 'some', 'such', 'no', 'nor', 'not', 'only', 'own', 'same', 'so', 'than', 'too', 'very', 's', 't', 'can', 'will', 'just', 'don', \"don't\", 'should', \"should've\", 'now', 'd', 'll', 'm', 'o', 're', 've', 'y', 'ain', 'aren', \"aren't\", 'couldn', \"couldn't\", 'didn', \"didn't\", 'doesn', \"doesn't\", 'hadn', \"hadn't\", 'hasn', \"hasn't\", 'haven', \"haven't\", 'isn', \"isn't\", 'ma', 'mightn', \"mightn't\", 'mustn', \"mustn't\", 'needn', \"needn't\", 'shan', \"shan't\", 'shouldn', \"shouldn't\", 'wasn', \"wasn't\", 'weren', \"weren't\", 'won', \"won't\", 'wouldn', \"wouldn't\"]\n"
     ]
    }
   ],
   "source": [
    "# List stop words\n",
    "from nltk.corpus import stopwords\n",
    "print(stopwords.words(\"english\"))"
   ]
  },
  {
   "cell_type": "code",
   "execution_count": 20,
   "metadata": {},
   "outputs": [
    {
     "name": "stdout",
     "output_type": "stream",
     "text": [
      "['the', 'first', 'time', 'you', 'see', 'the', 'second', 'renaissance', 'it', 'may', 'look', 'boring', 'look', 'at', 'it', 'at', 'least', 'twice', 'and', 'definitely', 'watch', 'part', '2', 'it', 'will', 'change', 'your', 'view', 'of', 'the', 'matrix', 'are', 'the', 'human', 'people', 'the', 'ones', 'who', 'started', 'the', 'war', 'is', 'ai', 'a', 'bad', 'thing']\n"
     ]
    }
   ],
   "source": [
    "# Reset text\n",
    "text = \"The first time you see The Second Renaissance it may look boring. Look at it at least twice and definitely watch part 2. It will change your view of the matrix. Are the human people the ones who started the war ? Is AI a bad thing ?\"\n",
    "\n",
    "# Normalize it\n",
    "text = re.sub(r\"[^a-zA-Z0-9]\", \" \", text.lower())\n",
    "\n",
    "# Tokenize it\n",
    "words = text.split()\n",
    "print(words)"
   ]
  },
  {
   "cell_type": "code",
   "execution_count": 21,
   "metadata": {},
   "outputs": [
    {
     "name": "stdout",
     "output_type": "stream",
     "text": [
      "['i', 'me', 'my', 'myself', 'we', 'our', 'ours', 'ourselves', 'you', \"you're\", \"you've\", \"you'll\", \"you'd\", 'your', 'yours', 'yourself', 'yourselves', 'he', 'him', 'his', 'himself', 'she', \"she's\", 'her', 'hers', 'herself', 'it', \"it's\", 'its', 'itself', 'they', 'them', 'their', 'theirs', 'themselves', 'what', 'which', 'who', 'whom', 'this', 'that', \"that'll\", 'these', 'those', 'am', 'is', 'are', 'was', 'were', 'be', 'been', 'being', 'have', 'has', 'had', 'having', 'do', 'does', 'did', 'doing', 'a', 'an', 'the', 'and', 'but', 'if', 'or', 'because', 'as', 'until', 'while', 'of', 'at', 'by', 'for', 'with', 'about', 'against', 'between', 'into', 'through', 'during', 'before', 'after', 'above', 'below', 'to', 'from', 'up', 'down', 'in', 'out', 'on', 'off', 'over', 'under', 'again', 'further', 'then', 'once', 'here', 'there', 'when', 'where', 'why', 'how', 'all', 'any', 'both', 'each', 'few', 'more', 'most', 'other', 'some', 'such', 'no', 'nor', 'not', 'only', 'own', 'same', 'so', 'than', 'too', 'very', 's', 't', 'can', 'will', 'just', 'don', \"don't\", 'should', \"should've\", 'now', 'd', 'll', 'm', 'o', 're', 've', 'y', 'ain', 'aren', \"aren't\", 'couldn', \"couldn't\", 'didn', \"didn't\", 'doesn', \"doesn't\", 'hadn', \"hadn't\", 'hasn', \"hasn't\", 'haven', \"haven't\", 'isn', \"isn't\", 'ma', 'mightn', \"mightn't\", 'mustn', \"mustn't\", 'needn', \"needn't\", 'shan', \"shan't\", 'shouldn', \"shouldn't\", 'wasn', \"wasn't\", 'weren', \"weren't\", 'won', \"won't\", 'wouldn', \"wouldn't\"]\n"
     ]
    }
   ],
   "source": [
    "#nltk.download()\n",
    "from nltk.corpus import stopwords\n",
    "print(stopwords.words(\"english\"))"
   ]
  },
  {
   "cell_type": "code",
   "execution_count": 22,
   "metadata": {},
   "outputs": [
    {
     "name": "stdout",
     "output_type": "stream",
     "text": [
      "['first', 'time', 'see', 'second', 'renaissance', 'may', 'look', 'boring', 'look', 'least', 'twice', 'definitely', 'watch', 'part', '2', 'change', 'view', 'matrix', 'human', 'people', 'ones', 'started', 'war', 'ai', 'bad', 'thing']\n"
     ]
    }
   ],
   "source": [
    "# Remove stop words\n",
    "words = [w for w in words if w not in stopwords.words(\"english\")]\n",
    "print(words)"
   ]
  },
  {
   "cell_type": "markdown",
   "metadata": {},
   "source": [
    "### Sentence Parsing"
   ]
  },
  {
   "cell_type": "code",
   "execution_count": 23,
   "metadata": {},
   "outputs": [
    {
     "name": "stdout",
     "output_type": "stream",
     "text": [
      "(S\n",
      "  (NP I)\n",
      "  (VP\n",
      "    (VP (V shot) (NP (Det an) (N elephant)))\n",
      "    (PP (P in) (NP (Det my) (N pajamas)))))\n",
      "(S\n",
      "  (NP I)\n",
      "  (VP\n",
      "    (V shot)\n",
      "    (NP (Det an) (N elephant) (PP (P in) (NP (Det my) (N pajamas))))))\n"
     ]
    }
   ],
   "source": [
    "import nltk\n",
    "\n",
    "# Define a custom grammar\n",
    "my_grammar = nltk.CFG.fromstring(\"\"\"\n",
    "S -> NP VP\n",
    "PP -> P NP\n",
    "NP -> Det N | Det N PP | 'I'\n",
    "VP -> V NP | VP PP\n",
    "Det -> 'an' | 'my'\n",
    "N -> 'elephant' | 'pajamas'\n",
    "V -> 'shot'\n",
    "P -> 'in'\n",
    "\"\"\")\n",
    "parser = nltk.ChartParser(my_grammar)\n",
    "\n",
    "# Parse a sentence\n",
    "sentence = word_tokenize(\"I shot an elephant in my pajamas\")\n",
    "for tree in parser.parse(sentence):\n",
    "    print(tree)"
   ]
  },
  {
   "cell_type": "code",
   "execution_count": 24,
   "metadata": {},
   "outputs": [],
   "source": [
    "# Visualize parse trees\n",
    "\n",
    "for tree in parser.parse(sentence):\n",
    "    tree.draw()"
   ]
  },
  {
   "cell_type": "markdown",
   "metadata": {},
   "source": [
    "### Named Entity Recognition"
   ]
  },
  {
   "cell_type": "code",
   "execution_count": 25,
   "metadata": {},
   "outputs": [],
   "source": [
    "# nltk.download('averaged_perceptron_tagger')\n",
    "# nltk.download('maxent_ne_chunker')\n",
    "# nltk.download('words')"
   ]
  },
  {
   "cell_type": "code",
   "execution_count": 26,
   "metadata": {},
   "outputs": [
    {
     "data": {
      "image/png": "[encoded data removed]",
      "text/plain": [
       "Tree('S', [Tree('GPE', [('Manish', 'JJ')]), ('joined', 'VBD'), Tree('PERSON', [('Microsoft', 'NNP')]), ('as', 'IN'), ('a', 'DT'), Tree('ORGANIZATION', [('Machine', 'NNP')]), ('Learning', 'NNP'), ('Engineer', 'NNP')])"
      ]
     },
     "execution_count": 26,
     "metadata": {},
     "output_type": "execute_result"
    }
   ],
   "source": [
    "from nltk import pos_tag, ne_chunk\n",
    "from nltk.tokenize import word_tokenize\n",
    "\n",
    "# Recognize named entities in a tagged sentence\n",
    "ne_chunk(pos_tag(word_tokenize(\"Manish joined Microsoft as a Machine Learning Engineer\")))"
   ]
  },
  {
   "cell_type": "markdown",
   "metadata": {},
   "source": [
    "## Stemming & Lemmatization\n",
    "\n",
    "### Stemming"
   ]
  },
  {
   "cell_type": "code",
   "execution_count": 27,
   "metadata": {},
   "outputs": [
    {
     "name": "stdout",
     "output_type": "stream",
     "text": [
      "['first', 'time', 'see', 'second', 'renaiss', 'may', 'look', 'bore', 'look', 'least', 'twice', 'definit', 'watch', 'part', '2', 'chang', 'view', 'matrix', 'human', 'peopl', 'one', 'start', 'war', 'ai', 'bad', 'thing']\n"
     ]
    }
   ],
   "source": [
    "from nltk.stem.porter import PorterStemmer\n",
    "\n",
    "# Reduce words to their stems\n",
    "stemmed = [PorterStemmer().stem(w) for w in words]\n",
    "print(stemmed)"
   ]
  },
  {
   "cell_type": "markdown",
   "metadata": {},
   "source": [
    "### Lemmatization"
   ]
  },
  {
   "cell_type": "code",
   "execution_count": 28,
   "metadata": {},
   "outputs": [],
   "source": [
    "# nltk.download('wordnet')"
   ]
  },
  {
   "cell_type": "code",
   "execution_count": 29,
   "metadata": {},
   "outputs": [
    {
     "name": "stdout",
     "output_type": "stream",
     "text": [
      "['first', 'time', 'see', 'second', 'renaissance', 'may', 'look', 'boring', 'look', 'least', 'twice', 'definitely', 'watch', 'part', '2', 'change', 'view', 'matrix', 'human', 'people', 'one', 'started', 'war', 'ai', 'bad', 'thing']\n"
     ]
    }
   ],
   "source": [
    "from nltk.stem.wordnet import WordNetLemmatizer\n",
    "\n",
    "# Reduce words to their root form\n",
    "lemmed = [WordNetLemmatizer().lemmatize(w) for w in words]\n",
    "print(lemmed)"
   ]
  },
  {
   "cell_type": "code",
   "execution_count": 30,
   "metadata": {},
   "outputs": [
    {
     "name": "stdout",
     "output_type": "stream",
     "text": [
      "['first', 'time', 'see', 'second', 'renaissance', 'may', 'look', 'bore', 'look', 'least', 'twice', 'definitely', 'watch', 'part', '2', 'change', 'view', 'matrix', 'human', 'people', 'one', 'start', 'war', 'ai', 'bad', 'thing']\n"
     ]
    }
   ],
   "source": [
    "# Lemmatize verbs by specifying pos\n",
    "lemmed = [WordNetLemmatizer().lemmatize(w, pos='v') for w in lemmed]\n",
    "print(lemmed)"
   ]
  }
 ],
 "metadata": {
  "kernelspec": {
   "display_name": "Python [conda env:udacitynlp]",
   "language": "python",
   "name": "conda-env-udacitynlp-py"
  },
  "language_info": {
   "codemirror_mode": {
    "name": "ipython",
    "version": 3
   },
   "file_extension": ".py",
   "mimetype": "text/x-python",
   "name": "python",
   "nbconvert_exporter": "python",
   "pygments_lexer": "ipython3",
   "version": "3.7.6"
  }
 },
 "nbformat": 4,
 "nbformat_minor": 2
}
